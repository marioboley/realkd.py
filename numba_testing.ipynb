{
 "cells": [
  {
   "cell_type": "markdown",
   "metadata": {},
   "source": [
    "# Numba implementation of greedy search"
   ]
  },
  {
   "cell_type": "markdown",
   "metadata": {},
   "source": [
    "### Imports"
   ]
  },
  {
   "cell_type": "code",
   "execution_count": 74,
   "metadata": {},
   "outputs": [],
   "source": [
    "from realkd.rules import RuleBoostingEstimator, XGBRuleEstimator, logistic_loss\n",
    "from realkd.search import search_methods\n",
    "from numba import njit, parallel_chunksize\n",
    "import pandas as pd\n",
    "import sortednp as snp\n",
    "import doctest\n",
    "from realkd.search import GreedySearch\n",
    "import matplotlib.pyplot as plt\n",
    "\n",
    "from collections import defaultdict, deque\n",
    "from sortedcontainers import SortedSet\n",
    "from math import inf\n",
    "from heapq import heappop, heappush\n",
    "from numpy import array\n",
    "from bitarray import bitarray\n",
    "import collections.abc\n",
    "from numba.typed import List\n",
    "from math import inf\n",
    "from numpy import arange, argsort, array, cumsum, exp, full_like, log2, stack, zeros, zeros_like\n",
    "from pandas import qcut, Series\n",
    "import time\n",
    "from sklearn.base import BaseEstimator, clone\n",
    "\n",
    "from realkd.search import Conjunction, Context, KeyValueProposition, Constraint\n",
    "from bitarray.util import subset\n",
    "import numpy as np\n",
    "import pandas as pd\n",
    "\n",
    "from realkd.logic import Conjunction, Constraint, KeyValueProposition, TabulatedProposition"
   ]
  },
  {
   "cell_type": "markdown",
   "metadata": {},
   "source": [
    "## Create test data\n",
    "\n",
    "As test data we generate simple binary random matrices $R \\in \\{0, 1\\}^{m \\times n}$ with a fixed proportion of 1-entries ($\\alpha=0.5$) for a range of $n$ and $m$ values."
   ]
  },
  {
   "cell_type": "code",
   "execution_count": 24,
   "metadata": {},
   "outputs": [],
   "source": [
    "RNG = np.random.default_rng(seed=0)\n",
    "\n",
    "def rand_array(size, alpha=0.2):\n",
    "    n, k = size\n",
    "    d = np.arange(n*k)\n",
    "    RNG.shuffle(d)\n",
    "    d = (d < alpha*len(d)).astype(int)\n",
    "    return d.reshape(n, k)"
   ]
  },
  {
   "cell_type": "code",
   "execution_count": 105,
   "metadata": {},
   "outputs": [
    {
     "ename": "MemoryError",
     "evalue": "Unable to allocate 1.86 GiB for an array with shape (250000000,) and data type int64",
     "output_type": "error",
     "traceback": [
      "\u001b[0;31m---------------------------------------------------------------------------\u001b[0m",
      "\u001b[0;31mMemoryError\u001b[0m                               Traceback (most recent call last)",
      "Cell \u001b[0;32mIn [105], line 11\u001b[0m\n\u001b[1;32m      9\u001b[0m \u001b[38;5;28;01mfor\u001b[39;00m m \u001b[38;5;129;01min\u001b[39;00m ms:\n\u001b[1;32m     10\u001b[0m     \u001b[38;5;28;01mfor\u001b[39;00m n \u001b[38;5;129;01min\u001b[39;00m ns:\n\u001b[0;32m---> 11\u001b[0m         X \u001b[38;5;241m=\u001b[39m \u001b[43mrand_array\u001b[49m\u001b[43m(\u001b[49m\u001b[43m(\u001b[49m\u001b[43mm\u001b[49m\u001b[43m,\u001b[49m\u001b[43m \u001b[49m\u001b[43mn\u001b[49m\u001b[43m)\u001b[49m\u001b[43m,\u001b[49m\u001b[43m \u001b[49m\u001b[43malpha\u001b[49m\u001b[38;5;241;43m=\u001b[39;49m\u001b[43malpha\u001b[49m\u001b[43m)\u001b[49m\n\u001b[1;32m     12\u001b[0m         true_weights \u001b[38;5;241m=\u001b[39m RNG\u001b[38;5;241m.\u001b[39mrandom(n) \u001b[38;5;241m*\u001b[39m \u001b[38;5;241m10\u001b[39m\n\u001b[1;32m     13\u001b[0m         y \u001b[38;5;241m=\u001b[39m X \u001b[38;5;241m@\u001b[39m true_weights \u001b[38;5;241m+\u001b[39m RNG\u001b[38;5;241m.\u001b[39mrandom(m)\n",
      "Cell \u001b[0;32mIn [24], line 5\u001b[0m, in \u001b[0;36mrand_array\u001b[0;34m(size, alpha)\u001b[0m\n\u001b[1;32m      3\u001b[0m d \u001b[38;5;241m=\u001b[39m np\u001b[38;5;241m.\u001b[39marange(n\u001b[38;5;241m*\u001b[39mk)\n\u001b[1;32m      4\u001b[0m RNG\u001b[38;5;241m.\u001b[39mshuffle(d)\n\u001b[0;32m----> 5\u001b[0m d \u001b[38;5;241m=\u001b[39m \u001b[43m(\u001b[49m\u001b[43md\u001b[49m\u001b[43m \u001b[49m\u001b[38;5;241;43m<\u001b[39;49m\u001b[43m \u001b[49m\u001b[43malpha\u001b[49m\u001b[38;5;241;43m*\u001b[39;49m\u001b[38;5;28;43mlen\u001b[39;49m\u001b[43m(\u001b[49m\u001b[43md\u001b[49m\u001b[43m)\u001b[49m\u001b[43m)\u001b[49m\u001b[38;5;241;43m.\u001b[39;49m\u001b[43mastype\u001b[49m\u001b[43m(\u001b[49m\u001b[38;5;28;43mint\u001b[39;49m\u001b[43m)\u001b[49m\n\u001b[1;32m      6\u001b[0m \u001b[38;5;28;01mreturn\u001b[39;00m d\u001b[38;5;241m.\u001b[39mreshape(n, k)\n",
      "\u001b[0;31mMemoryError\u001b[0m: Unable to allocate 1.86 GiB for an array with shape (250000000,) and data type int64"
     ]
    }
   ],
   "source": [
    "# n = number of columns\n",
    "# m = number of rows\n",
    "ns = np.arange(50, 501, 50)\n",
    "ms = np.arange(50000, 50001, 1000)\n",
    "\n",
    "alpha = 0.5\n",
    "\n",
    "d = {}\n",
    "for m in ms:\n",
    "    for n in ns:\n",
    "        X = rand_array((m, n), alpha=alpha)\n",
    "        true_weights = RNG.random(n) * 10\n",
    "        y = X @ true_weights + RNG.random(m)\n",
    "        y = np.sign(y - y.mean())\n",
    "        dfX = pd.DataFrame(data=X, index=None, columns=[f'x{i}' for i in range(X.shape[1])])\n",
    "        dfy = pd.Series(data=y)\n",
    "        d[(m, n)] = (dfX, dfy)"
   ]
  },
  {
   "cell_type": "markdown",
   "metadata": {},
   "source": [
    "## Existing implementation"
   ]
  },
  {
   "cell_type": "code",
   "execution_count": 93,
   "metadata": {},
   "outputs": [],
   "source": [
    "@njit\n",
    "def intersect_sorted_arrays(A, B):\n",
    "  \"\"\"\n",
    "  Returns the sorted intersection of A and B\n",
    "  - Assumes A and B are sorted\n",
    "  - Assumes A and B each have no duplicates\n",
    "  \"\"\"\n",
    "  i = 0\n",
    "  j = 0\n",
    "  intersection = List()\n",
    "\n",
    "  while i < len(A) and j < len(B):\n",
    "      if A[i] == B[j]:\n",
    "          intersection.append(A[i])\n",
    "          i += 1\n",
    "          j += 1\n",
    "      elif A[i] < B[j]:\n",
    "          i += 1\n",
    "      else:\n",
    "          j += 1\n",
    "  return np.asarray(intersection)\n",
    "\n",
    "@njit\n",
    "def run_greedy_search(initial_extent, n, extents, objective_function):\n",
    "    \"\"\"\n",
    "    Runs the configured search.\n",
    "\n",
    "    :return: :class:`~realkd.logic.Conjunction` that (approximately) maximizes objective\n",
    "    \"\"\"\n",
    "    intent = List([-1])\n",
    "    extent = initial_extent\n",
    "    value = objective_function(extent)\n",
    "    while True:\n",
    "        best_i, best_ext = None, None\n",
    "        for i in range(n):\n",
    "            for index in intent:\n",
    "                if index == i:\n",
    "                    continue\n",
    "            _extent = intersect_sorted_arrays(extent, extents[i])\n",
    "            _value = objective_function(_extent)\n",
    "            if _value > value:\n",
    "                value = _value\n",
    "                best_ext = _extent\n",
    "                best_i = i\n",
    "        if best_i is not None:\n",
    "            # Found a good addition, update intent and try again\n",
    "            intent.append(best_i)\n",
    "            extent = best_ext\n",
    "        else:\n",
    "            # Intent can't get any better\n",
    "            break\n",
    "    return intent[1:]\n",
    "\n",
    "class NumbaGreedySearch:\n",
    "    def __init__(self, ctx, obj, bdn, verbose=False, **kwargs):\n",
    "        \"\"\"\n",
    "\n",
    "        :param Context ctx: the context defining the search space\n",
    "        :param callable obj: objective function\n",
    "        :param callable bnd: bounding function satisfying that ``bnd(q) >= max{obj(r) for r in successors(q)}`` (for signature compatibility only, not currently used)\n",
    "        :param int verbose: level of verbosity\n",
    "\n",
    "        \"\"\"\n",
    "        self.ctx = ctx\n",
    "        self.f = obj\n",
    "        self.verbose = verbose\n",
    "\n",
    "    def run(self):\n",
    "        \"\"\"\n",
    "        Runs the configured search.\n",
    "\n",
    "        :return: :class:`~realkd.logic.Conjunction` that (approximately) maximizes objective\n",
    "        \"\"\"\n",
    "        initial_extent = np.array(self.ctx.extension([]))\n",
    "        n = self.ctx.n\n",
    "        extents = List(self.ctx.extents)\n",
    "\n",
    "        intent = run_greedy_search(initial_extent, self.ctx.n, extents, objective_function=self.f)\n",
    "\n",
    "        return Conjunction(map(lambda i: self.ctx.attributes[i], intent))\n",
    "\n",
    "def build_numba_obj_function(X, y):\n",
    "    \"\"\"\n",
    "    This would be part of the objective e.g GradientBoostingObjective\n",
    "    \"\"\"\n",
    "    # The following is only ONE example of this class of objective function, it would be different for\n",
    "    # different X, y, losses, regs and predictions.\n",
    "    loss = logistic_loss\n",
    "    reg = 1.0\n",
    "    predictions = zeros_like(y)\n",
    "    g = array(loss.g(y, predictions))\n",
    "    h = array(loss.h(y, predictions))\n",
    "    r = g / h\n",
    "    order = argsort(r)[::-1]\n",
    "    g = g[order]\n",
    "    h = h[order]\n",
    "    n = y.shape[0]\n",
    "\n",
    "    @njit\n",
    "    def objective_function(ext):\n",
    "        if len(ext) == 0:\n",
    "            return -inf\n",
    "        g_q = g[ext]\n",
    "        h_q = h[ext]\n",
    "        return g_q.sum() ** 2 / (2 * n * (reg + h_q.sum()))\n",
    "\n",
    "    return objective_function\n"
   ]
  },
  {
   "cell_type": "code",
   "execution_count": 94,
   "metadata": {},
   "outputs": [],
   "source": [
    "def run_search_numba(data, context):\n",
    "    ctx, obj_fn = context\n",
    "    search = NumbaGreedySearch(ctx=ctx, obj=obj_fn, bdn=None)\n",
    "    search.run()\n",
    "\n",
    "def run_search_base(data, context):\n",
    "    ctx, obj_fn = context\n",
    "    search = GreedySearch(ctx=ctx, obj=obj_fn, bdn=None)\n",
    "    search.run()"
   ]
  },
  {
   "cell_type": "code",
   "execution_count": 102,
   "metadata": {},
   "outputs": [
    {
     "name": "stdout",
     "output_type": "stream",
     "text": [
      "571 µs ± 10 µs per loop (mean ± std. dev. of 7 runs, 1,000 loops each)\n",
      "556 µs ± 111 µs per loop (mean ± std. dev. of 7 runs, 1,000 loops each)\n",
      "1.4 ms ± 155 µs per loop (mean ± std. dev. of 7 runs, 1 loop each)\n",
      "1.24 ms ± 21.1 µs per loop (mean ± std. dev. of 7 runs, 1,000 loops each)\n",
      "2.15 ms ± 169 µs per loop (mean ± std. dev. of 7 runs, 1 loop each)\n",
      "1.93 ms ± 25.2 µs per loop (mean ± std. dev. of 7 runs, 1,000 loops each)\n",
      "2.5 ms ± 194 µs per loop (mean ± std. dev. of 7 runs, 1 loop each)\n",
      "2.69 ms ± 230 µs per loop (mean ± std. dev. of 7 runs, 100 loops each)\n",
      "2.73 ms ± 218 µs per loop (mean ± std. dev. of 7 runs, 1 loop each)\n",
      "2.25 ms ± 232 µs per loop (mean ± std. dev. of 7 runs, 100 loops each)\n",
      "3.04 ms ± 234 µs per loop (mean ± std. dev. of 7 runs, 1 loop each)\n",
      "2.86 ms ± 147 µs per loop (mean ± std. dev. of 7 runs, 100 loops each)\n",
      "4.55 ms ± 177 µs per loop (mean ± std. dev. of 7 runs, 1 loop each)\n",
      "4.26 ms ± 253 µs per loop (mean ± std. dev. of 7 runs, 100 loops each)\n",
      "4.56 ms ± 170 µs per loop (mean ± std. dev. of 7 runs, 1 loop each)\n",
      "3.77 ms ± 73.8 µs per loop (mean ± std. dev. of 7 runs, 100 loops each)\n",
      "4.96 ms ± 268 µs per loop (mean ± std. dev. of 7 runs, 1 loop each)\n",
      "4.38 ms ± 285 µs per loop (mean ± std. dev. of 7 runs, 100 loops each)\n",
      "5.59 ms ± 394 µs per loop (mean ± std. dev. of 7 runs, 1 loop each)\n",
      "4.69 ms ± 248 µs per loop (mean ± std. dev. of 7 runs, 100 loops each)\n",
      "589 µs ± 14.2 µs per loop (mean ± std. dev. of 7 runs, 1,000 loops each)\n",
      "481 µs ± 25.8 µs per loop (mean ± std. dev. of 7 runs, 1,000 loops each)\n",
      "5.81 ms ± 162 µs per loop (mean ± std. dev. of 7 runs, 1 loop each)\n",
      "4.16 ms ± 81 µs per loop (mean ± std. dev. of 7 runs, 100 loops each)\n",
      "10.1 ms ± 212 µs per loop (mean ± std. dev. of 7 runs, 1 loop each)\n",
      "7.35 ms ± 205 µs per loop (mean ± std. dev. of 7 runs, 100 loops each)\n",
      "15.5 ms ± 817 µs per loop (mean ± std. dev. of 7 runs, 1 loop each)\n",
      "11.7 ms ± 100 µs per loop (mean ± std. dev. of 7 runs, 100 loops each)\n",
      "19.8 ms ± 544 µs per loop (mean ± std. dev. of 7 runs, 1 loop each)\n",
      "14.9 ms ± 243 µs per loop (mean ± std. dev. of 7 runs, 100 loops each)\n",
      "23.8 ms ± 1.2 ms per loop (mean ± std. dev. of 7 runs, 1 loop each)\n",
      "18.8 ms ± 764 µs per loop (mean ± std. dev. of 7 runs, 100 loops each)\n",
      "25.2 ms ± 1.29 ms per loop (mean ± std. dev. of 7 runs, 1 loop each)\n",
      "21 ms ± 950 µs per loop (mean ± std. dev. of 7 runs, 100 loops each)\n",
      "32 ms ± 1.68 ms per loop (mean ± std. dev. of 7 runs, 1 loop each)\n",
      "26.2 ms ± 610 µs per loop (mean ± std. dev. of 7 runs, 10 loops each)\n",
      "36.6 ms ± 2.18 ms per loop (mean ± std. dev. of 7 runs, 1 loop each)\n",
      "29.6 ms ± 745 µs per loop (mean ± std. dev. of 7 runs, 10 loops each)\n",
      "33.8 ms ± 1.14 ms per loop (mean ± std. dev. of 7 runs, 1 loop each)\n",
      "25 ms ± 395 µs per loop (mean ± std. dev. of 7 runs, 10 loops each)\n",
      "45.5 ms ± 2.49 ms per loop (mean ± std. dev. of 7 runs, 1 loop each)\n",
      "36.4 ms ± 921 µs per loop (mean ± std. dev. of 7 runs, 10 loops each)\n"
     ]
    }
   ],
   "source": [
    "t_numba = {}\n",
    "t_base = {}\n",
    "\n",
    "ms_to_plot = ms\n",
    "ns_to_plot = ns\n",
    "\n",
    "pre_made_ctx = {}\n",
    "\n",
    "for m in ms_to_plot:\n",
    "    data = d[(m, ns[0])]\n",
    "    ctx = Context.from_df(data[0])\n",
    "    obj_fn = build_numba_obj_function(data[0], data[1])\n",
    "    pre_made_ctx[(m, ns[0])] = ctx, obj_fn\n",
    "\n",
    "for n in ns_to_plot:\n",
    "    data = d[(ms[0], n)]\n",
    "    ctx = Context.from_df(data[0])\n",
    "    obj_fn = build_numba_obj_function(data[0], data[1])\n",
    "    pre_made_ctx[(ms[0], n)] = ctx, obj_fn\n",
    "\n",
    "\n",
    "# Dry runs to compile numba code\n",
    "run_search_numba(d[(ms[0], ns[0])], pre_made_ctx[(ms[0], ns[0])])\n",
    "run_search_base(d[(ms[0], ns[0])], pre_made_ctx[(ms[0], ns[0])])\n",
    "\n",
    "for m in ms_to_plot:\n",
    "    t_numba[(m, ns[0])] = %timeit -o run_search_numba(d[(m, ns[0])], pre_made_ctx[(m, ns[0])])\n",
    "    t_base[(m, ns[0])] = %timeit -o run_search_base(d[(m, ns[0])], pre_made_ctx[(m, ns[0])])\n",
    "\n",
    "for n in ns_to_plot:\n",
    "    t_numba[(ms[0], n)] = %timeit -o run_search_numba(d[(ms[0], n)], pre_made_ctx[(ms[0], n)])\n",
    "    t_base[(ms[0], n)] = %timeit -o run_search_base(d[(ms[0], n)], pre_made_ctx[(ms[0], n)])"
   ]
  },
  {
   "cell_type": "code",
   "execution_count": 104,
   "metadata": {},
   "outputs": [
    {
     "data": {
      "text/plain": [
       "21"
      ]
     },
     "execution_count": 104,
     "metadata": {},
     "output_type": "execute_result"
    }
   ],
   "source": [
    "len(ns) + len(ms)"
   ]
  },
  {
   "cell_type": "code",
   "execution_count": 103,
   "metadata": {},
   "outputs": [
    {
     "data": {
      "image/png": "[encoded data removed]",
      "text/plain": [
       "<Figure size 1000x500 with 2 Axes>"
      ]
     },
     "metadata": {},
     "output_type": "display_data"
    }
   ],
   "source": [
    "plt.subplots(1, 2, figsize=(10, 5))\n",
    "\n",
    "t_numba_mean = [t_numba[(m, ns[0])].average for m in ms_to_plot]\n",
    "t_numba_std = [t_numba[(m, ns[0])].stdev for m in ms_to_plot]\n",
    "t_base_mean = [t_base[(m, ns[0])].average for m in ms_to_plot]\n",
    "t_base_std = [t_base[(m, ns[0])].stdev for m in ms_to_plot]\n",
    "\n",
    "plt.subplot(1, 2, 1)\n",
    "plt.plot(ms_to_plot, t_numba_mean, marker='o')\n",
    "plt.plot(ms_to_plot, t_base_mean, marker='*')\n",
    "plt.xlim(ms_to_plot[0], ms_to_plot[-1])\n",
    "plt.xlabel('$m$')\n",
    "\n",
    "t_numba_mean = [t_numba[(ms[0], n)].average for n in ns_to_plot]\n",
    "t_numba_std = [t_numba[(ms[0], n)].stdev for n in ns_to_plot]\n",
    "t_base_mean = [t_base[(ms[0], n)].average for n in ns_to_plot]\n",
    "t_base_std = [t_base[(ms[0], n)].stdev for n in ns_to_plot]\n",
    "\n",
    "plt.subplot(1, 2, 2)\n",
    "plt.plot(ns_to_plot, t_numba_mean, marker='o', label='Numbafied code')\n",
    "plt.plot(ns_to_plot, t_base_mean, marker='*', label='Base case')\n",
    "plt.xlim(ns_to_plot[0], ns_to_plot[-1])\n",
    "plt.xlabel('$n$')\n",
    "plt.legend()\n",
    "\n",
    "plt.show()"
   ]
  }
 ],
 "metadata": {
  "kernelspec": {
   "display_name": "Python 3.8.10 ('ra-venv': venv)",
   "language": "python",
   "name": "python3"
  },
  "language_info": {
   "codemirror_mode": {
    "name": "ipython",
    "version": 3
   },
   "file_extension": ".py",
   "mimetype": "text/x-python",
   "name": "python",
   "nbconvert_exporter": "python",
   "pygments_lexer": "ipython3",
   "version": "3.8.10"
  },
  "metadata": {
   "interpreter": {
    "hash": "aee8b7b246df8f9039afb4144a1f6fd8d2ca17a180786b69acc140d282b71a49"
   }
  },
  "orig_nbformat": 2,
  "vscode": {
   "interpreter": {
    "hash": "04ccd759526a78d92a403eb19151bb50cb146f0d5170f1ff124d74183ac6d0a8"
   }
  }
 },
 "nbformat": 4,
 "nbformat_minor": 2
}
