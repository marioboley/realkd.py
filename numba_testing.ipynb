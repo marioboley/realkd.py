{
 "cells": [
  {
   "cell_type": "markdown",
   "metadata": {},
   "source": [
    "# Numba implementation of greedy search\n",
    "\n",
    "Allow just-in-time compilation with numba."
   ]
  },
  {
   "cell_type": "code",
   "execution_count": 38,
   "metadata": {},
   "outputs": [],
   "source": [
    "RUN_BENCHMARKS = True"
   ]
  },
  {
   "cell_type": "markdown",
   "metadata": {},
   "source": [
    "## Test data\n",
    "\n",
    "As test data we generate simple binary random matrices $R \\in \\{0, 1\\}^{m \\times n}$ with a fixed proportion of 1-entries ($\\alpha=0.5$) for a range of $n$ and $m$ values."
   ]
  },
  {
   "cell_type": "code",
   "execution_count": 20,
   "metadata": {},
   "outputs": [],
   "source": [
    "import numpy as np\n",
    "import pandas as pd\n",
    "\n",
    "RNG = np.random.default_rng(seed=0)"
   ]
  },
  {
   "cell_type": "code",
   "execution_count": 21,
   "metadata": {},
   "outputs": [],
   "source": [
    "def rand_array(size, alpha=0.2):\n",
    "    n, k = size\n",
    "    d = np.arange(n*k)\n",
    "    RNG.shuffle(d)\n",
    "    d = (d < alpha*len(d)).astype(int)\n",
    "    return d.reshape(n, k)"
   ]
  },
  {
   "cell_type": "code",
   "execution_count": 22,
   "metadata": {},
   "outputs": [
    {
     "data": {
      "text/plain": [
       "array([[1, 1, 0, 1, 1],\n",
       "       [1, 0, 1, 1, 0],\n",
       "       [1, 1, 0, 1, 1],\n",
       "       [0, 0, 0, 1, 1],\n",
       "       [0, 1, 0, 1, 0],\n",
       "       [0, 0, 1, 1, 0],\n",
       "       [0, 1, 0, 0, 0],\n",
       "       [1, 0, 0, 1, 1],\n",
       "       [1, 0, 0, 1, 1],\n",
       "       [0, 0, 0, 1, 0]])"
      ]
     },
     "execution_count": 22,
     "metadata": {},
     "output_type": "execute_result"
    }
   ],
   "source": [
    "d_tiny = rand_array((10, 5), alpha=0.5)\n",
    "d_tiny"
   ]
  },
  {
   "cell_type": "code",
   "execution_count": 23,
   "metadata": {},
   "outputs": [],
   "source": [
    "ns = np.arange(5, 51, 5)\n",
    "ms = np.arange(50, 501, 50)\n",
    "\n",
    "alpha = 0.5\n",
    "\n",
    "d = {}\n",
    "for m in ms:\n",
    "    for n in ns:\n",
    "        X = rand_array((m, n), alpha=alpha)\n",
    "        true_weights = RNG.random(n) * 10\n",
    "        y = X @ true_weights + RNG.random(m)\n",
    "        y = np.sign(y - y.mean())\n",
    "        dfX = pd.DataFrame(data=X, index=None, columns=[f'x{i}' for i in range(X.shape[1])])\n",
    "        dfy = pd.Series(data=y)\n",
    "        d[(m, n)] = (dfX, dfy)"
   ]
  },
  {
   "cell_type": "markdown",
   "metadata": {},
   "source": [
    "## Existing implementation"
   ]
  },
  {
   "cell_type": "code",
   "execution_count": 24,
   "metadata": {},
   "outputs": [],
   "source": [
    "from realkd.rules import RuleBoostingEstimator, XGBRuleEstimator, logistic_loss\n",
    "\n",
    "re = RuleBoostingEstimator(base_learner=XGBRuleEstimator(loss=logistic_loss, search='greedy'))\n",
    "\n",
    "def re_fit(data):\n",
    "  re.fit(data[0], data[1])"
   ]
  },
  {
   "cell_type": "code",
   "execution_count": 25,
   "metadata": {},
   "outputs": [],
   "source": [
    "try:\n",
    "    t_bm = t_bm if t_bm is not None else {}\n",
    "except:\n",
    "    t_bm = {}\n",
    "\n",
    "if RUN_BENCHMARKS:\n",
    "    t_bm = {}\n",
    "\n",
    "    for i in ms:\n",
    "        t_bm[(i, ns[0])] = %timeit -o re_fit(d[(i, ns[0])])\n",
    "\n",
    "    for i in ns:\n",
    "        t_bm[(ms[0], i)] = %timeit -o re_fit(d[(ms[0], i)])"
   ]
  },
  {
   "cell_type": "code",
   "execution_count": 26,
   "metadata": {},
   "outputs": [
    {
     "ename": "KeyError",
     "evalue": "(50, 5)",
     "output_type": "error",
     "traceback": [
      "\u001b[0;31m---------------------------------------------------------------------------\u001b[0m",
      "\u001b[0;31mKeyError\u001b[0m                                  Traceback (most recent call last)",
      "Cell \u001b[0;32mIn [26], line 3\u001b[0m\n\u001b[1;32m      1\u001b[0m \u001b[38;5;28;01mimport\u001b[39;00m \u001b[38;5;21;01mmatplotlib\u001b[39;00m\u001b[38;5;21;01m.\u001b[39;00m\u001b[38;5;21;01mpyplot\u001b[39;00m \u001b[38;5;28;01mas\u001b[39;00m \u001b[38;5;21;01mplt\u001b[39;00m\n\u001b[0;32m----> 3\u001b[0m t_bm_mean \u001b[38;5;241m=\u001b[39m [t_bm[(i, ns[\u001b[38;5;241m0\u001b[39m])]\u001b[38;5;241m.\u001b[39maverage \u001b[38;5;28;01mfor\u001b[39;00m i \u001b[38;5;129;01min\u001b[39;00m ms]\n\u001b[1;32m      4\u001b[0m t_bm_std \u001b[38;5;241m=\u001b[39m [t_bm[(i, ns[\u001b[38;5;241m0\u001b[39m])]\u001b[38;5;241m.\u001b[39mstdev \u001b[38;5;28;01mfor\u001b[39;00m i \u001b[38;5;129;01min\u001b[39;00m ms]\n\u001b[1;32m      5\u001b[0m plt\u001b[38;5;241m.\u001b[39msubplots(\u001b[38;5;241m1\u001b[39m, \u001b[38;5;241m2\u001b[39m, figsize\u001b[38;5;241m=\u001b[39m(\u001b[38;5;241m10\u001b[39m, \u001b[38;5;241m5\u001b[39m))\n",
      "Cell \u001b[0;32mIn [26], line 3\u001b[0m, in \u001b[0;36m<listcomp>\u001b[0;34m(.0)\u001b[0m\n\u001b[1;32m      1\u001b[0m \u001b[38;5;28;01mimport\u001b[39;00m \u001b[38;5;21;01mmatplotlib\u001b[39;00m\u001b[38;5;21;01m.\u001b[39;00m\u001b[38;5;21;01mpyplot\u001b[39;00m \u001b[38;5;28;01mas\u001b[39;00m \u001b[38;5;21;01mplt\u001b[39;00m\n\u001b[0;32m----> 3\u001b[0m t_bm_mean \u001b[38;5;241m=\u001b[39m [\u001b[43mt_bm\u001b[49m\u001b[43m[\u001b[49m\u001b[43m(\u001b[49m\u001b[43mi\u001b[49m\u001b[43m,\u001b[49m\u001b[43m \u001b[49m\u001b[43mns\u001b[49m\u001b[43m[\u001b[49m\u001b[38;5;241;43m0\u001b[39;49m\u001b[43m]\u001b[49m\u001b[43m)\u001b[49m\u001b[43m]\u001b[49m\u001b[38;5;241m.\u001b[39maverage \u001b[38;5;28;01mfor\u001b[39;00m i \u001b[38;5;129;01min\u001b[39;00m ms]\n\u001b[1;32m      4\u001b[0m t_bm_std \u001b[38;5;241m=\u001b[39m [t_bm[(i, ns[\u001b[38;5;241m0\u001b[39m])]\u001b[38;5;241m.\u001b[39mstdev \u001b[38;5;28;01mfor\u001b[39;00m i \u001b[38;5;129;01min\u001b[39;00m ms]\n\u001b[1;32m      5\u001b[0m plt\u001b[38;5;241m.\u001b[39msubplots(\u001b[38;5;241m1\u001b[39m, \u001b[38;5;241m2\u001b[39m, figsize\u001b[38;5;241m=\u001b[39m(\u001b[38;5;241m10\u001b[39m, \u001b[38;5;241m5\u001b[39m))\n",
      "\u001b[0;31mKeyError\u001b[0m: (50, 5)"
     ]
    }
   ],
   "source": [
    "import matplotlib.pyplot as plt\n",
    "\n",
    "t_bm_mean = [t_bm[(i, ns[0])].average for i in ms]\n",
    "t_bm_std = [t_bm[(i, ns[0])].stdev for i in ms]\n",
    "plt.subplots(1, 2, figsize=(10, 5))\n",
    "plt.subplot(1, 2, 1)\n",
    "plt.plot(ms, t_bm_mean, marker='o')\n",
    "plt.xlim(ms[0], ms[-1])\n",
    "plt.xlabel('$m$')\n",
    "\n",
    "plt.subplot(1, 2, 2)\n",
    "t_bm_mean = [t_bm[(ms[0], j)].average for j in ns]\n",
    "t_bm_std = [t_bm[(ms[0], j)].stdev for j in ns]\n",
    "plt.plot(ns, t_bm_mean, marker='o')\n",
    "plt.xlim(ns[0], ns[-1])\n",
    "plt.xlabel('$n$')\n",
    "\n",
    "plt.show()"
   ]
  },
  {
   "cell_type": "markdown",
   "metadata": {},
   "source": [
    "# Numba just-in-time compilation - Building it up from 0"
   ]
  },
  {
   "cell_type": "code",
   "execution_count": 28,
   "metadata": {},
   "outputs": [],
   "source": [
    "from numba import njit"
   ]
  },
  {
   "cell_type": "markdown",
   "metadata": {},
   "source": [
    "## Intersection"
   ]
  },
  {
   "cell_type": "code",
   "execution_count": 31,
   "metadata": {},
   "outputs": [],
   "source": [
    "def baseNumpyIntersection(arr1, arr2):\n",
    "    return np.intersect1d(arr1, arr2)\n",
    "\n",
    "\n",
    "@njit()\n",
    "def numbaNumpyIntersection(arr1, arr2):\n",
    "    return np.intersect1d(arr1, arr2)\n",
    "\n",
    "list1 = np.arange(100)\n",
    "list2 = np.arange(50, 100)\n",
    "\n",
    "# Run the function first before testing to compile it\n",
    "numbaNumpyIntersection(list1, list2)\n",
    "# print(numbaNumpyIntersection.inspect_types())\n",
    "if RUN_BENCHMARKS:\n",
    "    %timeit -o baseNumpyIntersection(list1, list2)\n",
    "    %timeit -o numbaNumpyIntersection(list1, list2)"
   ]
  },
  {
   "cell_type": "markdown",
   "metadata": {},
   "source": [
    "## Objective Function"
   ]
  },
  {
   "cell_type": "code",
   "execution_count": 41,
   "metadata": {},
   "outputs": [
    {
     "name": "stdout",
     "output_type": "stream",
     "text": [
      "0.11842105263157894\n",
      "The slowest run took 18.00 times longer than the fastest. This could mean that an intermediate result is being cached.\n",
      "2.97 µs ± 3.43 µs per loop (mean ± std. dev. of 7 runs, 1 loop each)\n",
      "The slowest run took 332468.74 times longer than the fastest. This could mean that an intermediate result is being cached.\n",
      "19 ms ± 46.5 ms per loop (mean ± std. dev. of 7 runs, 1 loop each)\n",
      "The slowest run took 208406.32 times longer than the fastest. This could mean that an intermediate result is being cached.\n",
      "20.8 ms ± 51 ms per loop (mean ± std. dev. of 7 runs, 1 loop each)\n",
      "The slowest run took 6.29 times longer than the fastest. This could mean that an intermediate result is being cached.\n",
      "1.31 µs ± 1.27 µs per loop (mean ± std. dev. of 7 runs, 1 loop each)\n"
     ]
    }
   ],
   "source": [
    "from numpy import array, argsort, zeros_like\n",
    "from math import inf\n",
    "\n",
    "def build_numba_obj_function(X, y):\n",
    "    loss = logistic_loss # TODO: Generalize\n",
    "    reg = 1.0 # TODO: Generalize\n",
    "    predictions = zeros_like(y) # TODO: Generalize\n",
    "    g = array(loss.g(y, predictions))\n",
    "    h = array(loss.h(y, predictions))\n",
    "    r = g / h\n",
    "    order = argsort(r)[::-1]\n",
    "    g = g[order]\n",
    "    h = h[order]\n",
    "    n = y.shape[0]\n",
    "\n",
    "    @njit\n",
    "    def objective_function(ext):\n",
    "        if len(ext) == 0:\n",
    "            return -inf\n",
    "        g_q = g[ext]\n",
    "        h_q = h[ext]\n",
    "        return g_q.sum() ** 2 / (2 * n * (reg + h_q.sum()))\n",
    "\n",
    "    return objective_function\n",
    "\n",
    "def get_ghreg(X, y):\n",
    "    loss = logistic_loss # TODO: Generalize\n",
    "    reg = 1.0 # TODO: Generalize\n",
    "    predictions = zeros_like(y) # TODO: Generalize\n",
    "    g = array(loss.g(y, predictions))\n",
    "    h = array(loss.h(y, predictions))\n",
    "    r = g / h\n",
    "    order = argsort(r)[::-1]\n",
    "    g = g[order]\n",
    "    h = h[order]\n",
    "    n = y.shape[0]\n",
    "\n",
    "    return (g, h, reg)\n",
    "\n",
    "@njit\n",
    "def objective_function(g, h, reg, ext):\n",
    "    if len(ext) == 0:\n",
    "        return -inf\n",
    "    g_q = g[ext]\n",
    "    h_q = h[ext]\n",
    "    return g_q.sum() ** 2 / (2 * n * (reg + h_q.sum()))\n",
    "\n",
    "test_data_1 = d[(ms[0],ns[0])]\n",
    "test_data_2 = d[(ms[0],ns[0])]\n",
    "test_extent = np.arange(5, 20)\n",
    "\n",
    "g1, h1, reg1 = get_ghreg(test_data_1[0], test_data_1[1])\n",
    "g2, h2, reg2 = get_ghreg(test_data_2[0], test_data_2[1])\n",
    "\n",
    "obj_fn_1 = build_numba_obj_function(test_data_1[0], test_data_1[1])\n",
    "obj_fn_2 = build_numba_obj_function(test_data_2[0], test_data_2[1])\n",
    "# obj_fn_3 = objective_function\n",
    "# obj_fn_4 = objective_function\n",
    "\n",
    "# Run the function first before testing to compile it\n",
    "# print(obj_fn_1(test_extent))\n",
    "# print(objective_function(g1, h1, reg1,test_extent))\n",
    "# obj_fn.inspect_types()\n",
    "\n",
    "if RUN_BENCHMARKS:\n",
    "    %timeit -o -n 1 obj_fn_1(test_extent)\n",
    "    %timeit -o -n 1 obj_fn_2(test_extent)\n",
    "    %timeit -o -n 1 objective_function(g1, h1, reg1, test_extent)\n",
    "    %timeit -o -n 1 objective_function(g1, h1, reg1, test_extent)"
   ]
  },
  {
   "cell_type": "markdown",
   "metadata": {},
   "source": [
    "## Numba just-in-time compilation - putting it all together"
   ]
  },
  {
   "cell_type": "code",
   "execution_count": 15,
   "metadata": {},
   "outputs": [],
   "source": [
    "from realkd.rules import RuleBoostingEstimator, XGBRuleEstimator, logistic_loss\n",
    "from realkd.search import search_methods\n",
    "from numba import njit\n",
    "import pandas as pd\n",
    "import sortednp as snp\n",
    "import doctest\n",
    "\n",
    "from collections import defaultdict, deque\n",
    "from sortedcontainers import SortedSet\n",
    "from math import inf\n",
    "from heapq import heappop, heappush\n",
    "from numpy import array\n",
    "from bitarray import bitarray\n",
    "import collections.abc\n",
    "\n",
    "from math import inf\n",
    "from numpy import arange, argsort, array, cumsum, exp, full_like, log2, stack, zeros, zeros_like\n",
    "from pandas import qcut, Series\n",
    "from sklearn.base import BaseEstimator, clone\n",
    "\n",
    "from realkd.search import Conjunction, Context, KeyValueProposition, Constraint\n",
    "from bitarray.util import subset\n",
    "\n",
    "from realkd.logic import Conjunction, Constraint, KeyValueProposition, TabulatedProposition\n",
    "\n",
    "re = RuleBoostingEstimator(base_learner=XGBRuleEstimator(loss=logistic_loss, search='numba_greedy'))\n",
    "\n",
    "def build_numba_obj_function(X, y):\n",
    "    loss = logistic_loss # TODO: Generalize\n",
    "    reg = 1.0 # TODO: Generalize\n",
    "    predictions = zeros_like(y) # TODO: Generalize\n",
    "    g = array(loss.g(y, predictions))\n",
    "    h = array(loss.h(y, predictions))\n",
    "    r = g / h\n",
    "    order = argsort(r)[::-1]\n",
    "    g = g[order]\n",
    "    h = h[order]\n",
    "    n = y.shape[0]\n",
    "\n",
    "    @njit\n",
    "    def objective_function(ext):\n",
    "        if len(ext) == 0:\n",
    "            return -inf\n",
    "        g_q = g[ext]\n",
    "        h_q = h[ext]\n",
    "        return g_q.sum() ** 2 / (2 * n * (reg + h_q.sum()))\n",
    "    return objective_function\n",
    "\n",
    "@njit\n",
    "def my_intersect(arr1, arr2):\n",
    "    return np.array(set(arr1).intersection(arr2))\n",
    "\n",
    "# https://stackoverflow.com/questions/59959207/intersection-of-two-lists-in-numba\n",
    "@njit(debug=True)\n",
    "def JitListComp(l1, l2):\n",
    "    l3 = np.array([i for i in l1 for j in l2 if i == j])\n",
    "    return np.unique(l3)\n",
    "\n",
    "@njit()\n",
    "def numpy(l1, l2):\n",
    "    return np.intersect1d(l1, l2)\n",
    "\n",
    "@njit\n",
    "def find_best_new_index(current_intent, current_extent , extents, initial_value, f, n):\n",
    "    best_i, best_ext = None, current_extent\n",
    "    value = initial_value\n",
    "    for i in range(n):\n",
    "        if i in current_intent:\n",
    "            continue\n",
    "        new_extent = numpy(current_extent, extents[i])\n",
    "        new_value = f(new_extent)\n",
    "        if new_value > value:\n",
    "            value = new_value\n",
    "            best_ext = new_extent\n",
    "            best_i = i\n",
    "    return (best_i, best_ext, value)\n",
    "\n",
    "@njit\n",
    "def numba_run(extent, n, extents, f):\n",
    "    \"\"\"\n",
    "    Runs the configured search.\n",
    "\n",
    "    :return: :class:`~realkd.logic.Conjunction` that (approximately) maximizes objective\n",
    "    \"\"\"\n",
    "    intent = [-1]\n",
    "    value = f(extent)\n",
    "    while True:\n",
    "        best_i, best_ext, new_value = find_best_new_index(intent, extent, extents, value, f, n)\n",
    "        if best_i is not None:\n",
    "            # Update intent and try again\n",
    "            intent.append(best_i)\n",
    "            extent = best_ext\n",
    "            value = new_value\n",
    "        else:\n",
    "            # Intent can't get any better\n",
    "            break\n",
    "    return intent[1:]\n",
    "\n",
    "class NumbaGreedySearch:\n",
    "    def __init__(self, ctx, obj, bdn=None, verbose=False, **kwargs):\n",
    "        \"\"\"\n",
    "\n",
    "        :param Context ctx: the context defining the search space\n",
    "        :param callable obj: objective function\n",
    "        :param callable bnd: bounding function satisfying that ``bnd(q) >= max{obj(r) for r in successors(q)}`` (for signature compatibility only, not currently used)\n",
    "        :param int verbose: level of verbosity\n",
    "\n",
    "        \"\"\"\n",
    "        self.ctx = ctx\n",
    "        self.f = obj\n",
    "        self.verbose = verbose\n",
    "\n",
    "    def run(self):\n",
    "        \"\"\"\n",
    "        Runs the configured search.\n",
    "\n",
    "        :return: :class:`~realkd.logic.Conjunction` that (approximately) maximizes objective\n",
    "        \"\"\"\n",
    "        # The context is essentially the \"current\" intent and extent\n",
    "        # Also note intent implies extent\n",
    "        # Initially all row indexes from existing extent are selected (i.e intent = [])\n",
    "        initial_extent = np.array(self.ctx.extension([]))\n",
    "        n = self.ctx.n\n",
    "        extents = self.ctx.extents\n",
    "        attributes = self.ctx.attributes\n",
    "        # Intent is a list of COLUMN indexes to select by\n",
    "        intent = numba_run(initial_extent, n, extents, self.f)\n",
    "        return Conjunction(map(lambda i: attributes[i], intent))\n"
   ]
  },
  {
   "cell_type": "code",
   "execution_count": 16,
   "metadata": {},
   "outputs": [],
   "source": [
    "from realkd.search import GreedySearch\n",
    "\n",
    "def run_search_numba(data):\n",
    "    objective_function = build_numba_obj_function(data[0], data[1])\n",
    "    search = NumbaGreedySearch(ctx=Context.from_df(data[0]), obj=objective_function, bdn=None)\n",
    "    search.run()\n",
    "\n",
    "def run_search_base(data):\n",
    "    objective_function = build_numba_obj_function(data[0], data[1])\n",
    "    search = GreedySearch(ctx=Context.from_df(data[0]), obj=objective_function, bdn=None)\n",
    "    search.run()"
   ]
  },
  {
   "cell_type": "code",
   "execution_count": null,
   "metadata": {},
   "outputs": [],
   "source": [
    "run_search_numba(d[(ms[0],ns[0])])"
   ]
  },
  {
   "cell_type": "code",
   "execution_count": null,
   "metadata": {},
   "outputs": [],
   "source": [
    "t_numba = {}\n",
    "t_base = {}\n",
    "\n",
    "ms_to_plot = ms\n",
    "ns_to_plot = ns\n",
    "\n",
    "for m in ms_to_plot:\n",
    "    t_numba[(m, ns[0])] = %timeit -o run_search_numba(d[(m, ns[0])])\n",
    "    t_base[(m, ns[0])] = %timeit -o run_search_base(d[(m, ns[0])])\n",
    "\n",
    "for n in ns_to_plot:\n",
    "    t_numba[(ms[0], n)] = %timeit -o run_search_numba(d[(ms[0], n)])\n",
    "    t_base[(ms[0], n)] = %timeit -o run_search_base(d[(ms[0], n)])"
   ]
  },
  {
   "cell_type": "code",
   "execution_count": 40,
   "metadata": {},
   "outputs": [
    {
     "data": {
      "image/png": "[encoded data removed]",
      "text/plain": [
       "<Figure size 1000x500 with 2 Axes>"
      ]
     },
     "metadata": {},
     "output_type": "display_data"
    }
   ],
   "source": [
    "plt.subplots(1, 2, figsize=(10, 5))\n",
    "\n",
    "t_numba_mean = [t_numba[(m, ns[0])].average for m in ms_to_plot]\n",
    "t_numba_std = [t_numba[(m, ns[0])].stdev for m in ms_to_plot]\n",
    "t_base_mean = [t_base[(m, ns[0])].average for m in ms_to_plot]\n",
    "t_base_std = [t_base[(m, ns[0])].stdev for m in ms_to_plot]\n",
    "\n",
    "plt.subplot(1, 2, 1)\n",
    "plt.plot(ms_to_plot, t_numba_mean, marker='o')\n",
    "plt.plot(ms_to_plot, t_base_mean, marker='*')\n",
    "plt.xlim(ms_to_plot[0], ms_to_plot[-1])\n",
    "plt.xlabel('$m$')\n",
    "\n",
    "t_numba_mean = [t_numba[(ms[0], n)].average for n in ns_to_plot]\n",
    "t_numba_std = [t_numba[(ms[0], n)].stdev for n in ns_to_plot]\n",
    "t_base_mean = [t_base[(ms[0], n)].average for n in ns_to_plot]\n",
    "t_base_std = [t_base[(ms[0], n)].stdev for n in ns_to_plot]\n",
    "\n",
    "plt.subplot(1, 2, 2)\n",
    "plt.plot(ns_to_plot, t_numba_mean, marker='o', label='Numbafied code')\n",
    "plt.plot(ns_to_plot, t_base_mean, marker='*', label='Base case')\n",
    "plt.xlim(ns_to_plot[0], ns_to_plot[-1])\n",
    "plt.xlabel('$n$')\n",
    "plt.legend()\n",
    "\n",
    "plt.show()"
   ]
  }
 ],
 "metadata": {
  "kernelspec": {
   "display_name": "Python 3.8.10 ('ra-venv': venv)",
   "language": "python",
   "name": "python3"
  },
  "language_info": {
   "codemirror_mode": {
    "name": "ipython",
    "version": 3
   },
   "file_extension": ".py",
   "mimetype": "text/x-python",
   "name": "python",
   "nbconvert_exporter": "python",
   "pygments_lexer": "ipython3",
   "version": "3.8.10"
  },
  "metadata": {
   "interpreter": {
    "hash": "aee8b7b246df8f9039afb4144a1f6fd8d2ca17a180786b69acc140d282b71a49"
   }
  },
  "orig_nbformat": 2,
  "vscode": {
   "interpreter": {
    "hash": "04ccd759526a78d92a403eb19151bb50cb146f0d5170f1ff124d74183ac6d0a8"
   }
  }
 },
 "nbformat": 4,
 "nbformat_minor": 2
}
