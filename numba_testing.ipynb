{
 "cells": [
  {
   "cell_type": "markdown",
   "metadata": {},
   "source": [
    "# Numba implementation of greedy search\n",
    "\n",
    "Allow just-in-time compilation with numba."
   ]
  },
  {
   "cell_type": "code",
   "execution_count": 38,
   "metadata": {},
   "outputs": [],
   "source": [
    "RUN_BENCHMARKS = True"
   ]
  },
  {
   "cell_type": "markdown",
   "metadata": {},
   "source": [
    "## Test data\n",
    "\n",
    "As test data we generate simple binary random matrices $R \\in \\{0, 1\\}^{m \\times n}$ with a fixed proportion of 1-entries ($\\alpha=0.5$) for a range of $n$ and $m$ values."
   ]
  },
  {
   "cell_type": "code",
   "execution_count": 20,
   "metadata": {},
   "outputs": [],
   "source": [
    "import numpy as np\n",
    "import pandas as pd\n",
    "\n",
    "RNG = np.random.default_rng(seed=0)"
   ]
  },
  {
   "cell_type": "code",
   "execution_count": 21,
   "metadata": {},
   "outputs": [],
   "source": [
    "def rand_array(size, alpha=0.2):\n",
    "    n, k = size\n",
    "    d = np.arange(n*k)\n",
    "    RNG.shuffle(d)\n",
    "    d = (d < alpha*len(d)).astype(int)\n",
    "    return d.reshape(n, k)"
   ]
  },
  {
   "cell_type": "code",
   "execution_count": 22,
   "metadata": {},
   "outputs": [
    {
     "data": {
      "text/plain": [
       "array([[1, 1, 0, 1, 1],\n",
       "       [1, 0, 1, 1, 0],\n",
       "       [1, 1, 0, 1, 1],\n",
       "       [0, 0, 0, 1, 1],\n",
       "       [0, 1, 0, 1, 0],\n",
       "       [0, 0, 1, 1, 0],\n",
       "       [0, 1, 0, 0, 0],\n",
       "       [1, 0, 0, 1, 1],\n",
       "       [1, 0, 0, 1, 1],\n",
       "       [0, 0, 0, 1, 0]])"
      ]
     },
     "execution_count": 22,
     "metadata": {},
     "output_type": "execute_result"
    }
   ],
   "source": [
    "d_tiny = rand_array((10, 5), alpha=0.5)\n",
    "d_tiny"
   ]
  },
  {
   "cell_type": "code",
   "execution_count": 23,
   "metadata": {},
   "outputs": [],
   "source": [
    "ns = np.arange(5, 51, 5)\n",
    "ms = np.arange(50, 501, 50)\n",
    "\n",
    "alpha = 0.5\n",
    "\n",
    "d = {}\n",
    "for m in ms:\n",
    "    for n in ns:\n",
    "        X = rand_array((m, n), alpha=alpha)\n",
    "        true_weights = RNG.random(n) * 10\n",
    "        y = X @ true_weights + RNG.random(m)\n",
    "        y = np.sign(y - y.mean())\n",
    "        dfX = pd.DataFrame(data=X, index=None, columns=[f'x{i}' for i in range(X.shape[1])])\n",
    "        dfy = pd.Series(data=y)\n",
    "        d[(m, n)] = (dfX, dfy)"
   ]
  },
  {
   "cell_type": "markdown",
   "metadata": {},
   "source": [
    "## Existing implementation"
   ]
  },
  {
   "cell_type": "code",
   "execution_count": 24,
   "metadata": {},
   "outputs": [],
   "source": [
    "from realkd.rules import RuleBoostingEstimator, XGBRuleEstimator, logistic_loss\n",
    "\n",
    "re = RuleBoostingEstimator(base_learner=XGBRuleEstimator(loss=logistic_loss, search='greedy'))\n",
    "\n",
    "def re_fit(data):\n",
    "  re.fit(data[0], data[1])"
   ]
  },
  {
   "cell_type": "code",
   "execution_count": 25,
   "metadata": {},
   "outputs": [],
   "source": [
    "try:\n",
    "    t_bm = t_bm if t_bm is not None else {}\n",
    "except:\n",
    "    t_bm = {}\n",
    "\n",
    "if RUN_BENCHMARKS:\n",
    "    t_bm = {}\n",
    "\n",
    "    for i in ms:\n",
    "        t_bm[(i, ns[0])] = %timeit -o re_fit(d[(i, ns[0])])\n",
    "\n",
    "    for i in ns:\n",
    "        t_bm[(ms[0], i)] = %timeit -o re_fit(d[(ms[0], i)])"
   ]
  },
  {
   "cell_type": "code",
   "execution_count": 26,
   "metadata": {},
   "outputs": [
    {
     "ename": "KeyError",
     "evalue": "(50, 5)",
     "output_type": "error",
     "traceback": [
      "\u001b[0;31m---------------------------------------------------------------------------\u001b[0m",
      "\u001b[0;31mKeyError\u001b[0m                                  Traceback (most recent call last)",
      "Cell \u001b[0;32mIn [26], line 3\u001b[0m\n\u001b[1;32m      1\u001b[0m \u001b[38;5;28;01mimport\u001b[39;00m \u001b[38;5;21;01mmatplotlib\u001b[39;00m\u001b[38;5;21;01m.\u001b[39;00m\u001b[38;5;21;01mpyplot\u001b[39;00m \u001b[38;5;28;01mas\u001b[39;00m \u001b[38;5;21;01mplt\u001b[39;00m\n\u001b[0;32m----> 3\u001b[0m t_bm_mean \u001b[38;5;241m=\u001b[39m [t_bm[(i, ns[\u001b[38;5;241m0\u001b[39m])]\u001b[38;5;241m.\u001b[39maverage \u001b[38;5;28;01mfor\u001b[39;00m i \u001b[38;5;129;01min\u001b[39;00m ms]\n\u001b[1;32m      4\u001b[0m t_bm_std \u001b[38;5;241m=\u001b[39m [t_bm[(i, ns[\u001b[38;5;241m0\u001b[39m])]\u001b[38;5;241m.\u001b[39mstdev \u001b[38;5;28;01mfor\u001b[39;00m i \u001b[38;5;129;01min\u001b[39;00m ms]\n\u001b[1;32m      5\u001b[0m plt\u001b[38;5;241m.\u001b[39msubplots(\u001b[38;5;241m1\u001b[39m, \u001b[38;5;241m2\u001b[39m, figsize\u001b[38;5;241m=\u001b[39m(\u001b[38;5;241m10\u001b[39m, \u001b[38;5;241m5\u001b[39m))\n",
      "Cell \u001b[0;32mIn [26], line 3\u001b[0m, in \u001b[0;36m<listcomp>\u001b[0;34m(.0)\u001b[0m\n\u001b[1;32m      1\u001b[0m \u001b[38;5;28;01mimport\u001b[39;00m \u001b[38;5;21;01mmatplotlib\u001b[39;00m\u001b[38;5;21;01m.\u001b[39;00m\u001b[38;5;21;01mpyplot\u001b[39;00m \u001b[38;5;28;01mas\u001b[39;00m \u001b[38;5;21;01mplt\u001b[39;00m\n\u001b[0;32m----> 3\u001b[0m t_bm_mean \u001b[38;5;241m=\u001b[39m [\u001b[43mt_bm\u001b[49m\u001b[43m[\u001b[49m\u001b[43m(\u001b[49m\u001b[43mi\u001b[49m\u001b[43m,\u001b[49m\u001b[43m \u001b[49m\u001b[43mns\u001b[49m\u001b[43m[\u001b[49m\u001b[38;5;241;43m0\u001b[39;49m\u001b[43m]\u001b[49m\u001b[43m)\u001b[49m\u001b[43m]\u001b[49m\u001b[38;5;241m.\u001b[39maverage \u001b[38;5;28;01mfor\u001b[39;00m i \u001b[38;5;129;01min\u001b[39;00m ms]\n\u001b[1;32m      4\u001b[0m t_bm_std \u001b[38;5;241m=\u001b[39m [t_bm[(i, ns[\u001b[38;5;241m0\u001b[39m])]\u001b[38;5;241m.\u001b[39mstdev \u001b[38;5;28;01mfor\u001b[39;00m i \u001b[38;5;129;01min\u001b[39;00m ms]\n\u001b[1;32m      5\u001b[0m plt\u001b[38;5;241m.\u001b[39msubplots(\u001b[38;5;241m1\u001b[39m, \u001b[38;5;241m2\u001b[39m, figsize\u001b[38;5;241m=\u001b[39m(\u001b[38;5;241m10\u001b[39m, \u001b[38;5;241m5\u001b[39m))\n",
      "\u001b[0;31mKeyError\u001b[0m: (50, 5)"
     ]
    }
   ],
   "source": [
    "import matplotlib.pyplot as plt\n",
    "\n",
    "t_bm_mean = [t_bm[(i, ns[0])].average for i in ms]\n",
    "t_bm_std = [t_bm[(i, ns[0])].stdev for i in ms]\n",
    "plt.subplots(1, 2, figsize=(10, 5))\n",
    "plt.subplot(1, 2, 1)\n",
    "plt.plot(ms, t_bm_mean, marker='o')\n",
    "plt.xlim(ms[0], ms[-1])\n",
    "plt.xlabel('$m$')\n",
    "\n",
    "plt.subplot(1, 2, 2)\n",
    "t_bm_mean = [t_bm[(ms[0], j)].average for j in ns]\n",
    "t_bm_std = [t_bm[(ms[0], j)].stdev for j in ns]\n",
    "plt.plot(ns, t_bm_mean, marker='o')\n",
    "plt.xlim(ns[0], ns[-1])\n",
    "plt.xlabel('$n$')\n",
    "\n",
    "plt.show()"
   ]
  },
  {
   "cell_type": "markdown",
   "metadata": {},
   "source": [
    "# Numba just-in-time compilation - Building it up from 0"
   ]
  },
  {
   "cell_type": "code",
   "execution_count": 28,
   "metadata": {},
   "outputs": [],
   "source": [
    "from numba import njit"
   ]
  },
  {
   "cell_type": "markdown",
   "metadata": {},
   "source": [
    "## Intersection"
   ]
  },
  {
   "cell_type": "code",
   "execution_count": 31,
   "metadata": {},
   "outputs": [],
   "source": [
    "def baseNumpyIntersection(arr1, arr2):\n",
    "    return np.intersect1d(arr1, arr2)\n",
    "\n",
    "\n",
    "@njit()\n",
    "def numbaNumpyIntersection(arr1, arr2):\n",
    "    return np.intersect1d(arr1, arr2)\n",
    "\n",
    "list1 = np.arange(100)\n",
    "list2 = np.arange(50, 100)\n",
    "\n",
    "# Run the function first before testing to compile it\n",
    "numbaNumpyIntersection(list1, list2)\n",
    "# print(numbaNumpyIntersection.inspect_types())\n",
    "if RUN_BENCHMARKS:\n",
    "    %timeit -o baseNumpyIntersection(list1, list2)\n",
    "    %timeit -o numbaNumpyIntersection(list1, list2)"
   ]
  },
  {
   "cell_type": "markdown",
   "metadata": {},
   "source": [
    "## Objective Function"
   ]
  },
  {
   "cell_type": "code",
   "execution_count": 91,
   "metadata": {},
   "outputs": [
    {
     "name": "stdout",
     "output_type": "stream",
     "text": [
      "The slowest run took 821462.88 times longer than the fastest. This could mean that an intermediate result is being cached.\n",
      "70.4 ms ± 172 ms per loop (mean ± std. dev. of 7 runs, 1 loop each)\n",
      "The slowest run took 380643.06 times longer than the fastest. This could mean that an intermediate result is being cached.\n",
      "21.8 ms ± 53.3 ms per loop (mean ± std. dev. of 7 runs, 1 loop each)\n",
      "The slowest run took 234788.76 times longer than the fastest. This could mean that an intermediate result is being cached.\n",
      "23.5 ms ± 57.5 ms per loop (mean ± std. dev. of 7 runs, 1 loop each)\n",
      "The slowest run took 7.29 times longer than the fastest. This could mean that an intermediate result is being cached.\n",
      "1.46 µs ± 1.5 µs per loop (mean ± std. dev. of 7 runs, 1 loop each)\n"
     ]
    }
   ],
   "source": [
    "from numpy import array, argsort, zeros_like\n",
    "from math import inf\n",
    "\n",
    "def build_numba_obj_function(X, y):\n",
    "    loss = logistic_loss # TODO: Generalize\n",
    "    reg = 1.0 # TODO: Generalize\n",
    "    predictions = zeros_like(y) # TODO: Generalize\n",
    "    g = array(loss.g(y, predictions))\n",
    "    h = array(loss.h(y, predictions))\n",
    "    r = g / h\n",
    "    order = argsort(r)[::-1]\n",
    "    g = g[order]\n",
    "    h = h[order]\n",
    "    n = y.shape[0]\n",
    "\n",
    "    @njit\n",
    "    def objective_function(ext):\n",
    "        if len(ext) == 0:\n",
    "            return -inf\n",
    "        g_q = g[ext]\n",
    "        h_q = h[ext]\n",
    "        return g_q.sum() ** 2 / (2 * n * (reg + h_q.sum()))\n",
    "\n",
    "    return objective_function\n",
    "\n",
    "def get_ghreg(X, y):\n",
    "    loss = logistic_loss # TODO: Generalize\n",
    "    reg = 1.0 # TODO: Generalize\n",
    "    predictions = zeros_like(y) # TODO: Generalize\n",
    "    g = array(loss.g(y, predictions))\n",
    "    h = array(loss.h(y, predictions))\n",
    "    r = g / h\n",
    "    order = argsort(r)[::-1]\n",
    "    g = g[order]\n",
    "    h = h[order]\n",
    "    n = y.shape[0]\n",
    "\n",
    "    return (g, h, reg)\n",
    "\n",
    "@njit\n",
    "def objective_function(g, h, reg, ext):\n",
    "    if len(ext) == 0:\n",
    "        return -inf\n",
    "    g_q = g[ext]\n",
    "    h_q = h[ext]\n",
    "    return g_q.sum() ** 2 / (2 * n * (reg + h_q.sum()))\n",
    "\n",
    "test_data_1 = d[(ms[0],ns[0])]\n",
    "test_data_2 = d[(ms[0],ns[1])]\n",
    "test_extent = np.arange(5, 20)\n",
    "\n",
    "g1, h1, reg1 = get_ghreg(test_data_1[0], test_data_1[1])\n",
    "g2, h2, reg2 = get_ghreg(test_data_2[0], test_data_2[1])\n",
    "\n",
    "obj_fn_1 = build_numba_obj_function(test_data_1[0], test_data_1[1])\n",
    "obj_fn_2 = build_numba_obj_function(test_data_2[0], test_data_2[1])\n",
    "# obj_fn_3 = objective_function\n",
    "# obj_fn_4 = objective_function\n",
    "\n",
    "# Run the function first before testing to compile it\n",
    "# print(obj_fn_1(test_extent))\n",
    "# print(objective_function(g1, h1, reg1,test_extent))\n",
    "# obj_fn.inspect_types()\n",
    "\n",
    "if RUN_BENCHMARKS:\n",
    "    %timeit -o -n 1 obj_fn_1(test_extent)\n",
    "    %timeit -o -n 1 obj_fn_2(test_extent)\n",
    "    %timeit -o -n 1 objective_function(g1, h1, reg1, test_extent)\n",
    "    %timeit -o -n 1 objective_function(g1, h1, reg1, test_extent)"
   ]
  },
  {
   "cell_type": "markdown",
   "metadata": {},
   "source": [
    "## find_best_new_index"
   ]
  },
  {
   "cell_type": "code",
   "execution_count": 103,
   "metadata": {},
   "outputs": [
    {
     "name": "stdout",
     "output_type": "stream",
     "text": [
      "array(int64, 1d, C)\n",
      "array(int64, 1d, C)\n"
     ]
    },
    {
     "ename": "TypingError",
     "evalue": "Failed in nopython mode pipeline (step: nopython frontend)\nnon-precise type array(pyobject, 1d, C)\nDuring: typing of argument at /tmp/ipykernel_1815/181429032.py (6)\n\nFile \"../../../../../tmp/ipykernel_1815/181429032.py\", line 6:\n<source missing, REPL/exec in use?>\n",
     "output_type": "error",
     "traceback": [
      "\u001b[0;31m---------------------------------------------------------------------------\u001b[0m",
      "\u001b[0;31mTypingError\u001b[0m                               Traceback (most recent call last)",
      "Cell \u001b[0;32mIn [103], line 39\u001b[0m\n\u001b[1;32m     37\u001b[0m \u001b[38;5;28mprint\u001b[39m(numba\u001b[38;5;241m.\u001b[39mtypeof(extents[\u001b[38;5;241m0\u001b[39m]))\n\u001b[1;32m     38\u001b[0m \u001b[38;5;28mprint\u001b[39m(numba\u001b[38;5;241m.\u001b[39mtypeof(ctx\u001b[38;5;241m.\u001b[39mextents[\u001b[38;5;241m0\u001b[39m]))\n\u001b[0;32m---> 39\u001b[0m \u001b[43mfind_best_new_index\u001b[49m\u001b[43m(\u001b[49m\u001b[43mtest_indent\u001b[49m\u001b[43m,\u001b[49m\u001b[43m \u001b[49m\u001b[43minitial_extent\u001b[49m\u001b[43m,\u001b[49m\u001b[43m \u001b[49m\u001b[43mextents\u001b[49m\u001b[43m,\u001b[49m\u001b[43m \u001b[49m\u001b[43minitial_value\u001b[49m\u001b[43m,\u001b[49m\u001b[43m \u001b[49m\u001b[43mobjective_function\u001b[49m\u001b[43m,\u001b[49m\u001b[43m \u001b[49m\u001b[43mn\u001b[49m\u001b[43m,\u001b[49m\u001b[43m \u001b[49m\u001b[43mg\u001b[49m\u001b[43m,\u001b[49m\u001b[43m \u001b[49m\u001b[43mh\u001b[49m\u001b[43m,\u001b[49m\u001b[43m \u001b[49m\u001b[43mreg\u001b[49m\u001b[43m)\u001b[49m\n\u001b[1;32m     41\u001b[0m find_best_new_index\u001b[38;5;241m.\u001b[39minspect_types()\n",
      "File \u001b[0;32m~/personal/rawork/realkd.py/ra-venv/lib/python3.8/site-packages/numba/core/dispatcher.py:468\u001b[0m, in \u001b[0;36m_DispatcherBase._compile_for_args\u001b[0;34m(self, *args, **kws)\u001b[0m\n\u001b[1;32m    464\u001b[0m         msg \u001b[39m=\u001b[39m (\u001b[39mf\u001b[39m\u001b[39m\"\u001b[39m\u001b[39m{\u001b[39;00m\u001b[39mstr\u001b[39m(e)\u001b[39m.\u001b[39mrstrip()\u001b[39m}\u001b[39;00m\u001b[39m \u001b[39m\u001b[39m\\n\u001b[39;00m\u001b[39m\\n\u001b[39;00m\u001b[39mThis error may have been caused \u001b[39m\u001b[39m\"\u001b[39m\n\u001b[1;32m    465\u001b[0m                \u001b[39mf\u001b[39m\u001b[39m\"\u001b[39m\u001b[39mby the following argument(s):\u001b[39m\u001b[39m\\n\u001b[39;00m\u001b[39m{\u001b[39;00margs_str\u001b[39m}\u001b[39;00m\u001b[39m\\n\u001b[39;00m\u001b[39m\"\u001b[39m)\n\u001b[1;32m    466\u001b[0m         e\u001b[39m.\u001b[39mpatch_message(msg)\n\u001b[0;32m--> 468\u001b[0m     error_rewrite(e, \u001b[39m'\u001b[39;49m\u001b[39mtyping\u001b[39;49m\u001b[39m'\u001b[39;49m)\n\u001b[1;32m    469\u001b[0m \u001b[39mexcept\u001b[39;00m errors\u001b[39m.\u001b[39mUnsupportedError \u001b[39mas\u001b[39;00m e:\n\u001b[1;32m    470\u001b[0m     \u001b[39m# Something unsupported is present in the user code, add help info\u001b[39;00m\n\u001b[1;32m    471\u001b[0m     error_rewrite(e, \u001b[39m'\u001b[39m\u001b[39munsupported_error\u001b[39m\u001b[39m'\u001b[39m)\n",
      "File \u001b[0;32m~/personal/rawork/realkd.py/ra-venv/lib/python3.8/site-packages/numba/core/dispatcher.py:409\u001b[0m, in \u001b[0;36m_DispatcherBase._compile_for_args.<locals>.error_rewrite\u001b[0;34m(e, issue_type)\u001b[0m\n\u001b[1;32m    407\u001b[0m     \u001b[39mraise\u001b[39;00m e\n\u001b[1;32m    408\u001b[0m \u001b[39melse\u001b[39;00m:\n\u001b[0;32m--> 409\u001b[0m     \u001b[39mraise\u001b[39;00m e\u001b[39m.\u001b[39mwith_traceback(\u001b[39mNone\u001b[39;00m)\n",
      "\u001b[0;31mTypingError\u001b[0m: Failed in nopython mode pipeline (step: nopython frontend)\nnon-precise type array(pyobject, 1d, C)\nDuring: typing of argument at /tmp/ipykernel_1815/181429032.py (6)\n\nFile \"../../../../../tmp/ipykernel_1815/181429032.py\", line 6:\n<source missing, REPL/exec in use?>\n"
     ]
    }
   ],
   "source": [
    "from realkd.search import Conjunction, Context, KeyValueProposition, Constraint\n",
    "import numba\n",
    "\n",
    "@njit\n",
    "def find_best_new_index(current_intent, current_extent, extents, initial_value, f, n, g, h, reg):\n",
    "    best_i, best_ext = None, current_extent\n",
    "    value = initial_value\n",
    "    for i in range(n):\n",
    "        if i in current_intent:\n",
    "            continue\n",
    "        new_extent = numbaNumpyIntersection(current_extent, extents[i])\n",
    "        new_value = f(g, h, reg, new_extent)\n",
    "        if new_value > value:\n",
    "            value = new_value\n",
    "            best_ext = new_extent\n",
    "            best_i = i\n",
    "    return (best_i, best_ext, value)\n",
    "\n",
    "test_data = d[(ms[0],ns[1])]\n",
    "test_indent = np.array([])\n",
    "test_extent = np.arange(5, 20)\n",
    "\n",
    "g1, h1, reg1 = get_ghreg(test_data[0], test_data_1[1])\n",
    "\n",
    "ctx = Context.from_df(test_data[0])\n",
    "g, h, reg = get_ghreg(test_data[0], test_data[1])\n",
    "\n",
    "initial_extent = np.array(ctx.extension([]))\n",
    "n = ctx.n\n",
    "extents = np.array(ctx.extents)\n",
    "attributes = ctx.attributes\n",
    "\n",
    "\n",
    "# askdf\n",
    "initial_value = objective_function(g, h, reg, initial_extent)\n",
    "\n",
    "print(numba.typeof(extents))\n",
    "print(numba.typeof(extents[0]))\n",
    "print(numba.typeof(ctx.extents[0]))\n",
    "find_best_new_index(test_indent, initial_extent, extents, initial_value, objective_function, n, g, h, reg)\n",
    "\n",
    "find_best_new_index.inspect_types()"
   ]
  },
  {
   "cell_type": "markdown",
   "metadata": {},
   "source": [
    "## Numba just-in-time compilation - putting it all together"
   ]
  },
  {
   "cell_type": "code",
   "execution_count": 71,
   "metadata": {},
   "outputs": [],
   "source": [
    "from realkd.rules import RuleBoostingEstimator, XGBRuleEstimator, logistic_loss\n",
    "from realkd.search import search_methods\n",
    "from numba import njit\n",
    "import pandas as pd\n",
    "import sortednp as snp\n",
    "import doctest\n",
    "\n",
    "from collections import defaultdict, deque\n",
    "from sortedcontainers import SortedSet\n",
    "from math import inf\n",
    "from heapq import heappop, heappush\n",
    "from numpy import array\n",
    "from bitarray import bitarray\n",
    "import collections.abc\n",
    "\n",
    "from math import inf\n",
    "from numpy import arange, argsort, array, cumsum, exp, full_like, log2, stack, zeros, zeros_like\n",
    "from pandas import qcut, Series\n",
    "from sklearn.base import BaseEstimator, clone\n",
    "\n",
    "from realkd.search import Conjunction, Context, KeyValueProposition, Constraint\n",
    "from bitarray.util import subset\n",
    "\n",
    "from realkd.logic import Conjunction, Constraint, KeyValueProposition, TabulatedProposition\n",
    "\n",
    "re = RuleBoostingEstimator(base_learner=XGBRuleEstimator(loss=logistic_loss, search='numba_greedy'))\n",
    "\n",
    "def get_ghreg(X, y):\n",
    "    loss = logistic_loss # TODO: Generalize\n",
    "    reg = 1.0 # TODO: Generalize\n",
    "    predictions = zeros_like(y) # TODO: Generalize\n",
    "    g = array(loss.g(y, predictions))\n",
    "    h = array(loss.h(y, predictions))\n",
    "    r = g / h\n",
    "    order = argsort(r)[::-1]\n",
    "    g = g[order]\n",
    "    h = h[order]\n",
    "    n = y.shape[0]\n",
    "\n",
    "    return (g, h, reg)\n",
    "\n",
    "# @njit\n",
    "def objective_function(g, h, reg, ext):\n",
    "    if len(ext) == 0:\n",
    "        return -inf\n",
    "    g_q = g[ext]\n",
    "    h_q = h[ext]\n",
    "    return g_q.sum() ** 2 / (2 * n * (reg + h_q.sum()))\n",
    "\n",
    "# @njit\n",
    "def my_intersect(arr1, arr2):\n",
    "    return np.array(set(arr1).intersection(arr2))\n",
    "\n",
    "# https://stackoverflow.com/questions/59959207/intersection-of-two-lists-in-numba\n",
    "# @njit()\n",
    "def JitListComp(l1, l2):\n",
    "    l3 = np.array([i for i in l1 for j in l2 if i == j])\n",
    "    return np.unique(l3)\n",
    "\n",
    "# @njit()\n",
    "def numpy(l1, l2):\n",
    "    return np.intersect1d(l1, l2)\n",
    "\n",
    "# TODO: Clean up code inc. removing argument passing\n",
    "# @njit\n",
    "def find_best_new_index(current_intent, current_extent, extents, initial_value, f, n, g, h, reg):\n",
    "    best_i, best_ext = None, current_extent\n",
    "    value = initial_value\n",
    "    for i in range(n):\n",
    "        if i in current_intent:\n",
    "            continue\n",
    "        new_extent = numpy(current_extent, extents[i])\n",
    "        new_value = f(g, h, reg, new_extent)\n",
    "        if new_value > value:\n",
    "            value = new_value\n",
    "            best_ext = new_extent\n",
    "            best_i = i\n",
    "    return (best_i, best_ext, value)\n",
    "\n",
    "# @njit\n",
    "def numba_run(extent, n, extents, f, g, h, reg):\n",
    "    \"\"\"\n",
    "    Runs the configured search.\n",
    "\n",
    "    :return: :class:`~realkd.logic.Conjunction` that (approximately) maximizes objective\n",
    "    \"\"\"\n",
    "    # print(g, h, reg)\n",
    "    intent = [-1]\n",
    "    value = f(g, h, reg,extent)\n",
    "    while True:\n",
    "        best_i, best_ext, new_value = find_best_new_index(intent, extent, extents, value, f, n, g, h, reg)\n",
    "        if best_i is not None:\n",
    "            # Update intent and try again\n",
    "            intent.append(best_i)\n",
    "            extent = best_ext\n",
    "            value = new_value\n",
    "        else:\n",
    "            # Intent can't get any better\n",
    "            break\n",
    "    return intent[1:]\n",
    "\n",
    "class NumbaGreedySearch:\n",
    "    def __init__(self, ctx, obj, bdn, g, h, reg, verbose=False, **kwargs):\n",
    "        \"\"\"\n",
    "\n",
    "        :param Context ctx: the context defining the search space\n",
    "        :param callable obj: objective function\n",
    "        :param callable bnd: bounding function satisfying that ``bnd(q) >= max{obj(r) for r in successors(q)}`` (for signature compatibility only, not currently used)\n",
    "        :param int verbose: level of verbosity\n",
    "\n",
    "        \"\"\"\n",
    "        self.ctx = ctx\n",
    "        self.f = obj\n",
    "        self.verbose = verbose\n",
    "        self.g = g\n",
    "        self.h = h\n",
    "        self.reg = reg\n",
    "\n",
    "    def run(self):\n",
    "        \"\"\"\n",
    "        Runs the configured search.\n",
    "\n",
    "        :return: :class:`~realkd.logic.Conjunction` that (approximately) maximizes objective\n",
    "        \"\"\"\n",
    "        # The context is essentially the \"current\" intent and extent\n",
    "        # Also note intent implies extent\n",
    "        # Initially all row indexes from existing extent are selected (i.e intent = [])\n",
    "        initial_extent = np.array(self.ctx.extension([]))\n",
    "        n = self.ctx.n\n",
    "        extents = self.ctx.extents\n",
    "        attributes = self.ctx.attributes\n",
    "        # print(self.g, self.h, self.reg)\n",
    "        # Intent is a list of COLUMN indexes to select by\n",
    "        intent = numba_run(initial_extent, n, extents, self.f, g=self.g, h=self.h, reg=self.reg)\n",
    "        return Conjunction(map(lambda i: attributes[i], intent))\n"
   ]
  },
  {
   "cell_type": "code",
   "execution_count": 84,
   "metadata": {},
   "outputs": [],
   "source": [
    "from realkd.search import GreedySearch\n",
    "import time\n",
    "\n",
    "def build_numba_obj_function(X, y):\n",
    "    loss = logistic_loss # TODO: Generalize\n",
    "    reg = 1.0 # TODO: Generalize\n",
    "    predictions = zeros_like(y) # TODO: Generalize\n",
    "    g = array(loss.g(y, predictions))\n",
    "    h = array(loss.h(y, predictions))\n",
    "    r = g / h\n",
    "    order = argsort(r)[::-1]\n",
    "    g = g[order]\n",
    "    h = h[order]\n",
    "    n = y.shape[0]\n",
    "\n",
    "    def objective_function(ext):\n",
    "        if len(ext) == 0:\n",
    "            return -inf\n",
    "        g_q = g[ext]\n",
    "        h_q = h[ext]\n",
    "        return g_q.sum() ** 2 / (2 * n * (reg + h_q.sum()))\n",
    "\n",
    "    return objective_function\n",
    "\n",
    "def run_search_numba(data, context):\n",
    "    ctx, g, h, reg, obj_fn = context\n",
    "    search = NumbaGreedySearch(ctx=ctx, obj=objective_function, bdn=None, g=g, h=h, reg=reg)\n",
    "    search.run()\n",
    "\n",
    "pre_made_obj_fns = {}\n",
    "\n",
    "def run_search_base(data, context):\n",
    "    ctx, g, h, reg, obj_fn = context\n",
    "    search = GreedySearch(ctx=ctx, obj=obj_fn, bdn=None)\n",
    "    search.run()"
   ]
  },
  {
   "cell_type": "code",
   "execution_count": 86,
   "metadata": {},
   "outputs": [],
   "source": [
    "data = d[(ms[0], ns[0])]\n",
    "ctx = Context.from_df(data[0])\n",
    "g, h, reg = get_ghreg(data[0], data[1])\n",
    "obj_fn = build_numba_obj_function(data[0], data[1])\n",
    "context = ctx, g, h, reg, obj_fn\n",
    "run_search_numba(data, context)"
   ]
  },
  {
   "cell_type": "code",
   "execution_count": 89,
   "metadata": {},
   "outputs": [
    {
     "name": "stdout",
     "output_type": "stream",
     "text": [
      "267 µs ± 17.9 µs per loop (mean ± std. dev. of 7 runs, 1,000 loops each)\n",
      "137 µs ± 1.65 µs per loop (mean ± std. dev. of 7 runs, 10,000 loops each)\n",
      "328 µs ± 11.1 µs per loop (mean ± std. dev. of 7 runs, 1,000 loops each)\n",
      "155 µs ± 972 ns per loop (mean ± std. dev. of 7 runs, 10,000 loops each)\n",
      "470 µs ± 15.6 µs per loop (mean ± std. dev. of 7 runs, 1,000 loops each)\n",
      "220 µs ± 16.2 µs per loop (mean ± std. dev. of 7 runs, 10,000 loops each)\n",
      "313 µs ± 10.4 µs per loop (mean ± std. dev. of 7 runs, 1,000 loops each)\n",
      "154 µs ± 2.37 µs per loop (mean ± std. dev. of 7 runs, 10,000 loops each)\n",
      "706 µs ± 8.1 µs per loop (mean ± std. dev. of 7 runs, 1,000 loops each)\n",
      "599 µs ± 130 µs per loop (mean ± std. dev. of 7 runs, 1,000 loops each)\n",
      "996 µs ± 89.2 µs per loop (mean ± std. dev. of 7 runs, 1,000 loops each)\n",
      "632 µs ± 32.5 µs per loop (mean ± std. dev. of 7 runs, 1,000 loops each)\n"
     ]
    }
   ],
   "source": [
    "import warnings\n",
    "warnings.filterwarnings(\"ignore\")\n",
    "\n",
    "t_numba = {}\n",
    "t_base = {}\n",
    "\n",
    "ms_to_plot = ms[:3]\n",
    "ns_to_plot = ns[:3]\n",
    "\n",
    "pre_made_ctx = {}\n",
    "\n",
    "for m in ms_to_plot:\n",
    "    data = d[(m, ns[0])]\n",
    "    ctx = Context.from_df(data[0])\n",
    "    g, h, reg = get_ghreg(data[0], data[1])\n",
    "    obj_fn = build_numba_obj_function(data[0], data[1])\n",
    "    pre_made_ctx[(m, ns[0])] = ctx, g, h, reg, obj_fn\n",
    "\n",
    "for n in ns_to_plot:\n",
    "    data = d[(ms[0], n)]\n",
    "    ctx = Context.from_df(data[0])\n",
    "    g, h, reg = get_ghreg(data[0], data[1])\n",
    "    obj_fn = build_numba_obj_function(data[0], data[1])\n",
    "    pre_made_ctx[(ms[0], n)] = ctx, g, h, reg, obj_fn\n",
    "\n",
    "\n",
    "for m in ms_to_plot:\n",
    "    t_numba[(m, ns[0])] = %timeit -o run_search_numba(d[(m, ns[0])], pre_made_ctx[(m, ns[0])])\n",
    "    t_base[(m, ns[0])] = %timeit -o run_search_base(d[(m, ns[0])], pre_made_ctx[(m, ns[0])])\n",
    "\n",
    "for n in ns_to_plot:\n",
    "    t_numba[(ms[0], n)] = %timeit -o run_search_numba(d[(ms[0], n)], pre_made_ctx[(ms[0], n)])\n",
    "    t_base[(ms[0], n)] = %timeit -o run_search_base(d[(ms[0], n)], pre_made_ctx[(ms[0], n)])"
   ]
  },
  {
   "cell_type": "code",
   "execution_count": 90,
   "metadata": {},
   "outputs": [
    {
     "data": {
      "image/png": "[encoded data removed]",
      "text/plain": [
       "<Figure size 1000x500 with 2 Axes>"
      ]
     },
     "metadata": {},
     "output_type": "display_data"
    }
   ],
   "source": [
    "plt.subplots(1, 2, figsize=(10, 5))\n",
    "\n",
    "t_numba_mean = [t_numba[(m, ns[0])].average for m in ms_to_plot]\n",
    "t_numba_std = [t_numba[(m, ns[0])].stdev for m in ms_to_plot]\n",
    "t_base_mean = [t_base[(m, ns[0])].average for m in ms_to_plot]\n",
    "t_base_std = [t_base[(m, ns[0])].stdev for m in ms_to_plot]\n",
    "\n",
    "plt.subplot(1, 2, 1)\n",
    "plt.plot(ms_to_plot, t_numba_mean, marker='o')\n",
    "plt.plot(ms_to_plot, t_base_mean, marker='*')\n",
    "plt.xlim(ms_to_plot[0], ms_to_plot[-1])\n",
    "plt.xlabel('$m$')\n",
    "\n",
    "t_numba_mean = [t_numba[(ms[0], n)].average for n in ns_to_plot]\n",
    "t_numba_std = [t_numba[(ms[0], n)].stdev for n in ns_to_plot]\n",
    "t_base_mean = [t_base[(ms[0], n)].average for n in ns_to_plot]\n",
    "t_base_std = [t_base[(ms[0], n)].stdev for n in ns_to_plot]\n",
    "\n",
    "plt.subplot(1, 2, 2)\n",
    "plt.plot(ns_to_plot, t_numba_mean, marker='o', label='Numbafied code')\n",
    "plt.plot(ns_to_plot, t_base_mean, marker='*', label='Base case')\n",
    "plt.xlim(ns_to_plot[0], ns_to_plot[-1])\n",
    "plt.xlabel('$n$')\n",
    "plt.legend()\n",
    "\n",
    "plt.show()"
   ]
  }
 ],
 "metadata": {
  "kernelspec": {
   "display_name": "Python 3.8.10 ('ra-venv': venv)",
   "language": "python",
   "name": "python3"
  },
  "language_info": {
   "codemirror_mode": {
    "name": "ipython",
    "version": 3
   },
   "file_extension": ".py",
   "mimetype": "text/x-python",
   "name": "python",
   "nbconvert_exporter": "python",
   "pygments_lexer": "ipython3",
   "version": "3.8.10"
  },
  "metadata": {
   "interpreter": {
    "hash": "aee8b7b246df8f9039afb4144a1f6fd8d2ca17a180786b69acc140d282b71a49"
   }
  },
  "orig_nbformat": 2,
  "vscode": {
   "interpreter": {
    "hash": "04ccd759526a78d92a403eb19151bb50cb146f0d5170f1ff124d74183ac6d0a8"
   }
  }
 },
 "nbformat": 4,
 "nbformat_minor": 2
}
