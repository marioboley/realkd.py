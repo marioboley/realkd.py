{
 "cells": [
  {
   "cell_type": "markdown",
   "metadata": {},
   "source": [
    "# Testing performance of Numba implementation of GreedySearch without the objective function as a higher order function"
   ]
  },
  {
   "cell_type": "markdown",
   "metadata": {},
   "source": [
    "## Imports"
   ]
  },
  {
   "cell_type": "code",
   "execution_count": 1,
   "metadata": {},
   "outputs": [],
   "source": [
    "from realkd.rules import RuleBoostingEstimator, XGBRuleEstimator, logistic_loss\n",
    "from realkd.search import search_methods\n",
    "from numba import njit, parallel_chunksize\n",
    "import pandas as pd\n",
    "import sortednp as snp\n",
    "import doctest\n",
    "from realkd.search import GreedySearch\n",
    "import matplotlib.pyplot as plt\n",
    "\n",
    "from collections import defaultdict, deque\n",
    "from sortedcontainers import SortedSet\n",
    "from math import inf\n",
    "from heapq import heappop, heappush\n",
    "from numpy import array\n",
    "from bitarray import bitarray\n",
    "import collections.abc\n",
    "from numba.typed import List\n",
    "from math import inf\n",
    "from numpy import arange, argsort, array, cumsum, exp, full_like, log2, stack, zeros, zeros_like\n",
    "from pandas import qcut, Series\n",
    "import time\n",
    "from sklearn.base import BaseEstimator, clone\n",
    "\n",
    "from realkd.search import Conjunction, Context, KeyValueProposition, Constraint, NumbaGreedySearch\n",
    "from bitarray.util import subset\n",
    "import numpy as np\n",
    "import pandas as pd\n",
    "\n",
    "from realkd.logic import Conjunction, Constraint, KeyValueProposition, TabulatedProposition"
   ]
  },
  {
   "cell_type": "markdown",
   "metadata": {},
   "source": [
    "## Test helpers"
   ]
  },
  {
   "cell_type": "code",
   "execution_count": 2,
   "metadata": {},
   "outputs": [],
   "source": [
    "RNG = np.random.default_rng(seed=0)\n",
    "ALPHA = 0.5\n",
    "\n",
    "def rand_array(size, alpha=0.2):\n",
    "    n, k = size\n",
    "    d = np.arange(n*k)\n",
    "    RNG.shuffle(d)\n",
    "    d = (d < alpha*len(d)).astype(int)\n",
    "    return d.reshape(n, k)\n",
    "\n",
    "def generate_test_data(m, n):\n",
    "    \"\"\"\n",
    "     :param int n: number of columns\n",
    "     :param int m: number of rows\n",
    "    \"\"\"\n",
    "    X = rand_array((m, n), alpha=ALPHA)\n",
    "    true_weights = RNG.random(n) * 10\n",
    "    y = X @ true_weights + RNG.random(m)\n",
    "    y = np.sign(y - y.mean())\n",
    "    dfX = pd.DataFrame(data=X, index=None, columns=[f'x{i}' for i in range(X.shape[1])])\n",
    "    dfy = pd.Series(data=y)\n",
    "    return (dfX, dfy)"
   ]
  },
  {
   "cell_type": "code",
   "execution_count": 3,
   "metadata": {},
   "outputs": [],
   "source": [
    "def get_ghregn(X, y):\n",
    "    \"\"\"\n",
    "    This would be part of the objective e.g GradientBoostingObjective\n",
    "    \"\"\"\n",
    "    # The following is only ONE example of this class of objective function, it would be different for\n",
    "    # different X, y, losses, regs and predictions.\n",
    "    loss = logistic_loss\n",
    "    reg = 1.0\n",
    "    predictions = zeros_like(y)\n",
    "    g = array(loss.g(y, predictions))\n",
    "    h = array(loss.h(y, predictions))\n",
    "    r = g / h\n",
    "    order = argsort(r)[::-1]\n",
    "    g = g[order]\n",
    "    h = h[order]\n",
    "    n = y.shape[0]\n",
    "\n",
    "    def objective_function(ext):\n",
    "        if len(ext) == 0:\n",
    "            return -inf\n",
    "        g_q = g[ext]\n",
    "        h_q = h[ext]\n",
    "        return g_q.sum() ** 2 / (2 * n * (reg + h_q.sum()))\n",
    "\n",
    "    return g, h, reg, objective_function"
   ]
  },
  {
   "cell_type": "code",
   "execution_count": 4,
   "metadata": {},
   "outputs": [],
   "source": [
    "def run_search_numba(ctx, g, h, reg, obj_fn):\n",
    "    search = NumbaGreedySearch(ctx=ctx, bdn=None, g=g, h=h, reg=reg)\n",
    "    search.run()\n",
    "\n",
    "def run_search_base(ctx, g, h, reg, obj_fn):\n",
    "    search = GreedySearch(ctx=ctx, obj=obj_fn, bdn=None)\n",
    "    search.run()"
   ]
  },
  {
   "cell_type": "code",
   "execution_count": 5,
   "metadata": {},
   "outputs": [],
   "source": [
    "class FakeContext:\n",
    "    def extension(self, intent):\n",
    "        if not intent:\n",
    "            return array(range(self.m))\n",
    "\n",
    "        raise Exception('Not implemented')\n",
    "    \n",
    "    def __init__(self, X):\n",
    "        m, n = X.shape\n",
    "        self.m = m\n",
    "        self.n = n\n",
    "        self.attributes = [KeyValueProposition(f'x{i}', Constraint.equals(1)) for i in range(1100)]\n",
    "        self.extents = [np.array([i for i in range(self.m) if (X.iat[i, j] == 1)], dtype='int64') for j in range(self.n)]\n",
    "\n",
    "def get_full_context(X, y):\n",
    "    ctx = FakeContext(X)\n",
    "    g, h, reg, obj_fn = get_ghregn(X, y)\n",
    "    return ctx, g, h, reg, obj_fn"
   ]
  },
  {
   "cell_type": "markdown",
   "metadata": {},
   "source": [
    "## Testing config"
   ]
  },
  {
   "cell_type": "code",
   "execution_count": 9,
   "metadata": {},
   "outputs": [
    {
     "name": "stdout",
     "output_type": "stream",
     "text": [
      "benchmarks_n\n",
      "i=500, method=run_search_numba: generating test data and context.... running test\n",
      "generating test data and context.... running test\n",
      "i=500, method=run_search_base: generating test data and context.... running test\n",
      "generating test data and context.... running test\n",
      "benchmarks_m\n",
      "i=1000, method=run_search_numba: generating test data and context.... running test\n",
      "generating test data and context.... running test\n",
      "i=1000, method=run_search_base: generating test data and context.... running test\n",
      "generating test data and context.... running test\n",
      "i=2000, method=run_search_numba: generating test data and context.... running test\n",
      "generating test data and context.... running test\n",
      "i=2000, method=run_search_base: generating test data and context.... running test\n",
      "generating test data and context.... running test\n",
      "i=3000, method=run_search_numba: generating test data and context.... running test\n",
      "generating test data and context.... running test\n",
      "i=3000, method=run_search_base: generating test data and context.... running test\n",
      "generating test data and context.... running test\n",
      "i=4000, method=run_search_numba: generating test data and context.... running test\n",
      "generating test data and context.... running test\n",
      "i=4000, method=run_search_base: generating test data and context.... running test\n",
      "generating test data and context.... running test\n",
      "i=5000, method=run_search_numba: generating test data and context.... running test\n",
      "generating test data and context.... running test\n",
      "i=5000, method=run_search_base: generating test data and context.... running test\n",
      "generating test data and context.... running test\n"
     ]
    }
   ],
   "source": [
    "import timeit\n",
    "\n",
    "ms_to_plot = np.arange(1000, 6000, 1000)\n",
    "ns_to_plot = np.arange(500, 700, 200)\n",
    "\n",
    "# 28 mins for ms_to_plot = np.arange(1000, 5001, 1000), ns_to_plot = np.arange(500, 1101, 200), LOOPS_PER_RUN=100, NUM_REPEATS=2, RUNS_PER_REPEAT=3\n",
    "LOOPS_PER_RUN=10\n",
    "NUM_REPEATS=2\n",
    "RUNS_PER_REPEAT=3\n",
    "\n",
    "benchmark_configs = [\n",
    "  {\n",
    "    'name': 'benchmarks_n',\n",
    "    'display': {\n",
    "      'title': 'Varying n (#columns)',\n",
    "      'xlabel': '$n$ (m = 1000)'\n",
    "    },\n",
    "    'iterator': ns_to_plot,\n",
    "    'config': {\n",
    "      'n': '$i',\n",
    "      'm': 1000\n",
    "    }\n",
    "  },\n",
    "  {\n",
    "    'name': 'benchmarks_m',\n",
    "    'display': {\n",
    "      'title': 'Varying m (#rows)',\n",
    "      'xlabel': '$m$ (n = 500)'\n",
    "    },\n",
    "    'iterator': ms_to_plot,\n",
    "    'config': {\n",
    "      'n': 500,\n",
    "      'm': '$i'\n",
    "    }\n",
    "  },\n",
    "]\n",
    "\n",
    "benchmark_results = {}\n",
    "\n",
    "# Run all functions first to eliminate the effect of compilation\n",
    "def precompile_all():\n",
    "  X, y = generate_test_data(100, 101)\n",
    "  ctx, g, h, reg, obj_fn = get_full_context(X, y)\n",
    "  run_search_numba(ctx, g, h, reg, obj_fn)\n",
    "  run_search_base(ctx, g, h, reg, obj_fn)\n",
    "\n",
    "\n",
    "precompile_all()\n",
    "\n",
    "for benchmark in benchmark_configs:\n",
    "  print(benchmark['name'])\n",
    "  benchmark_results[benchmark['name']] = {\n",
    "    'run_search_numba': {},\n",
    "    'run_search_base': {}\n",
    "  }\n",
    "  for i in benchmark['iterator']:\n",
    "    for method in ['run_search_numba', 'run_search_base']:\n",
    "      print(f'i={i}, method={method}: ', end='')\n",
    "      n = i if benchmark['config']['n'] == '$i' else benchmark['config']['n']\n",
    "      m = i if benchmark['config']['m'] == '$i' else benchmark['config']['m']\n",
    "      timeresults = []\n",
    "      for repeat in range(NUM_REPEATS):\n",
    "        print('generating test data and context.... ', end='' )\n",
    "        X, y = generate_test_data(m, n)\n",
    "        ctx, g, h, reg, obj_fn = get_full_context(X, y)\n",
    "        print('running test')\n",
    "        timeresults.append(min(timeit.repeat(f'{method}(ctx, g, h, reg, obj_fn)', repeat=RUNS_PER_REPEAT, number=LOOPS_PER_RUN, globals=globals())))\n",
    "      benchmark_results[benchmark['name']][method][i] = timeresults"
   ]
  },
  {
   "cell_type": "code",
   "execution_count": 10,
   "metadata": {},
   "outputs": [
    {
     "name": "stderr",
     "output_type": "stream",
     "text": [
      "/tmp/ipykernel_7025/3363192671.py:14: UserWarning: Attempting to set identical low and high xlims makes transformation singular; automatically expanding.\n",
      "  plt.xlim(benchmark['iterator'][0], benchmark['iterator'][-1])\n"
     ]
    },
    {
     "data": {
      "image/png": "[encoded data removed]",
      "text/plain": [
       "<Figure size 1000x500 with 2 Axes>"
      ]
     },
     "metadata": {},
     "output_type": "display_data"
    }
   ],
   "source": [
    "from statistics import mean, stdev\n",
    "from matplotlib.markers import MarkerStyle\n",
    "import matplotlib.pyplot as plt\n",
    "from numpy import average\n",
    "label_to_colors = {\n",
    "  'run_search_base': 'green',\n",
    "  'run_search_numba': 'purple'\n",
    "}\n",
    "plt.subplots(1, 2, figsize=(10, 5))\n",
    "\n",
    "plt.ylabel('time (seconds)')\n",
    "for i, benchmark in enumerate(benchmark_configs):\n",
    "  plt.subplot(1, 2, i+1)\n",
    "  plt.xlim(benchmark['iterator'][0], benchmark['iterator'][-1])\n",
    "  plt.title(benchmark['display']['title'])\n",
    "  plt.xlabel(benchmark['display']['xlabel'])\n",
    "  for label, time_result in benchmark_results[benchmark['name']].items():\n",
    "    for i in benchmark['iterator']:\n",
    "      plt.scatter([i]*NUM_REPEATS, time_result[i], c=label_to_colors[label], marker='.')\n",
    "    plt.errorbar(benchmark['iterator'], [mean(time_result[i]) for i in benchmark['iterator']], yerr=[stdev(time_result[i]) for i in benchmark['iterator']], marker='', capsize=5.0, label=label, c=label_to_colors[label])\n",
    "plt.legend()\n",
    "\n",
    "plt.show()"
   ]
  }
 ],
 "metadata": {
  "kernelspec": {
   "display_name": "Python 3.8.10 ('realkd-env': venv)",
   "language": "python",
   "name": "python3"
  },
  "language_info": {
   "codemirror_mode": {
    "name": "ipython",
    "version": 3
   },
   "file_extension": ".py",
   "mimetype": "text/x-python",
   "name": "python",
   "nbconvert_exporter": "python",
   "pygments_lexer": "ipython3",
   "version": "3.8.10"
  },
  "orig_nbformat": 4,
  "vscode": {
   "interpreter": {
    "hash": "b5a173d68ec8c655c3b01c8dea1b6426c24f369595d3476fe76d6a84197c91fb"
   }
  }
 },
 "nbformat": 4,
 "nbformat_minor": 2
}
