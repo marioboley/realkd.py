{
 "cells": [
  {
   "cell_type": "code",
   "execution_count": 9,
   "metadata": {},
   "outputs": [
    {
     "name": "stdout",
     "output_type": "stream",
     "text": [
      "   +0.8280 if x1<=51.78583999999999\n",
      "   -0.4023 if x1>=31.0 & x4<=80.0\n",
      "   +0.4742 if x2<=2.0 & x4>=80.0\n"
     ]
    },
    {
     "data": {
      "text/plain": [
       "array(['Pclass', 'Age', 'SibSp', 'Parch', 'Fare'], dtype=object)"
      ]
     },
     "execution_count": 9,
     "metadata": {},
     "output_type": "execute_result"
    }
   ],
   "source": [
    "importlib.reload(realkd.search)\n",
    "importlib.reload(realkd.logic)\n",
    "importlib.reload(realkd.rules)\n",
    "# TODO: Delete this file before merging to development\n",
    "\n",
    "import pandas as pd\n",
    "import importlib\n",
    "\n",
    "from sklearn.metrics import roc_auc_score\n",
    "import realkd.rules\n",
    "import realkd.search\n",
    "import realkd.logic\n",
    "\n",
    "titanic = pd.read_csv('../datasets/titanic/train.csv')\n",
    "titanic.dropna(inplace=True)\n",
    "survived = titanic.Survived\n",
    "titanic.drop(columns=['PassengerId', 'Name', 'Ticket', 'Cabin', 'Survived'], inplace=True)\n",
    "titanic.drop(columns=['Sex', 'Embarked'],  inplace=True)\n",
    "re = realkd.rules.RuleBoostingEstimator(base_learner=realkd.rules.XGBRuleEstimator(loss=realkd.rules.logistic_loss))\n",
    "print(re.fit(titanic, survived.replace(0, -1)).rules_)\n",
    "re.feature_names_in_"
   ]
  }
 ],
 "metadata": {
  "kernelspec": {
   "display_name": "env",
   "language": "python",
   "name": "python3"
  },
  "language_info": {
   "codemirror_mode": {
    "name": "ipython",
    "version": 3
   },
   "file_extension": ".py",
   "mimetype": "text/x-python",
   "name": "python",
   "nbconvert_exporter": "python",
   "pygments_lexer": "ipython3",
   "version": "3.10.12"
  },
  "orig_nbformat": 4
 },
 "nbformat": 4,
 "nbformat_minor": 2
}
