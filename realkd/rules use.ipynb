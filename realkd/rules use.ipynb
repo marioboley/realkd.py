{
 "cells": [
  {
   "cell_type": "code",
   "execution_count": 24,
   "metadata": {},
   "outputs": [
    {
     "name": "stdout",
     "output_type": "stream",
     "text": [
      "   -0.3021 if x4<=80.0\n",
      "   +0.5066 if x0<=1.0 & x1>=10.5\n",
      "   +0.7032 if x1<=6.0 & x4<=80.0\n",
      "['Pclass' 'Age' 'SibSp' 'Parch' 'Fare']\n"
     ]
    },
    {
     "data": {
      "text/plain": [
       "array([ 3.  , 22.  ,  1.  ,  0.  ,  7.25])"
      ]
     },
     "execution_count": 24,
     "metadata": {},
     "output_type": "execute_result"
    }
   ],
   "source": [
    "# importlib.reload(realkd.search)\n",
    "# importlib.reload(realkd.logic)\n",
    "# TODO: Delete this file before merging to development\n",
    "\n",
    "import pandas as pd\n",
    "import importlib\n",
    "from sklearn.compose import make_column_transformer\n",
    "\n",
    "from sklearn.metrics import roc_auc_score\n",
    "from sklearn.preprocessing import OneHotEncoder\n",
    "from realkd.datasets import concat_with_unique\n",
    "importlib.reload(realkd.rule_boosting)\n",
    "import realkd.rule_boosting\n",
    "# import realkd.search.core_query_tree\n",
    "import realkd.rules\n",
    "# import realkd.loss\n",
    "# import realkd.loss\n",
    "\n",
    "titanic = pd.read_csv('../datasets/titanic/train.csv')\n",
    "# titanic.dropna(inplace=True)\n",
    "survived = titanic.Survived\n",
    "column_trans = make_column_transformer(\n",
    "    # (OneHotEncoder(feature_name_combiner=concat_with_unique), ['Sex', 'Embarked']), # (so as to be consistant with pandas version)\n",
    "    ('passthrough', ['Pclass', 'Age', 'SibSp', 'Parch', 'Fare']), verbose_feature_names_out=False)\n",
    "X = column_trans.fit_transform(titanic)\n",
    "titanic.drop(columns=['PassengerId', 'Name', 'Ticket', 'Cabin', 'Survived'], inplace=True)\n",
    "titanic.drop(columns=['Sex', 'Embarked'],  inplace=True)\n",
    "feature_names = column_trans.get_feature_names_out()\n",
    "\n",
    "re = realkd.rule_boosting.RuleBoostingEstimator()\n",
    "print(re.fit(X, survived.replace(0, -1), feature_names).rules_)\n",
    "# re.fit(X, survived.replace(0, -1)).get_rules_(labels)\n",
    "print(re.feature_names_in_)  # (no feature names in)\n",
    "X[0]"
   ]
  },
  {
   "cell_type": "code",
   "execution_count": 3,
   "metadata": {},
   "outputs": [
    {
     "ename": "IndexError",
     "evalue": "index 4 is out of bounds for axis 0 with size 4",
     "output_type": "error",
     "traceback": [
      "\u001b[0;31m---------------------------------------------------------------------------\u001b[0m",
      "\u001b[0;31mIndexError\u001b[0m                                Traceback (most recent call last)",
      "\u001b[1;32m/mnt/c/Users/locke/Dropbox/Programming/Python/RA/realkd.py/realkd/rules use.ipynb Cell 2\u001b[0m line \u001b[0;36m1\n\u001b[1;32m     <a href='vscode-notebook-cell://wsl%2Bubuntu-2/mnt/c/Users/locke/Dropbox/Programming/Python/RA/realkd.py/realkd/rules%20use.ipynb#W1sdnNjb2RlLXJlbW90ZQ%3D%3D?line=10'>11</a>\u001b[0m titanic3 \u001b[39m=\u001b[39m titanic[cols]\n\u001b[1;32m     <a href='vscode-notebook-cell://wsl%2Bubuntu-2/mnt/c/Users/locke/Dropbox/Programming/Python/RA/realkd.py/realkd/rules%20use.ipynb#W1sdnNjb2RlLXJlbW90ZQ%3D%3D?line=12'>13</a>\u001b[0m re2 \u001b[39m=\u001b[39m realkd\u001b[39m.\u001b[39mrules\u001b[39m.\u001b[39mRuleBoostingEstimator(base_learner\u001b[39m=\u001b[39mrealkd\u001b[39m.\u001b[39mrules\u001b[39m.\u001b[39mXGBRuleEstimator(loss\u001b[39m=\u001b[39mrealkd\u001b[39m.\u001b[39mrules\u001b[39m.\u001b[39mlogistic_loss))\n\u001b[0;32m---> <a href='vscode-notebook-cell://wsl%2Bubuntu-2/mnt/c/Users/locke/Dropbox/Programming/Python/RA/realkd.py/realkd/rules%20use.ipynb#W1sdnNjb2RlLXJlbW90ZQ%3D%3D?line=13'>14</a>\u001b[0m \u001b[39mprint\u001b[39m(re2\u001b[39m.\u001b[39;49mfit(titanic, survived\u001b[39m.\u001b[39;49mreplace(\u001b[39m0\u001b[39;49m, \u001b[39m-\u001b[39;49m\u001b[39m1\u001b[39;49m))\u001b[39m.\u001b[39mrules_)\n",
      "File \u001b[0;32m/mnt/c/Users/locke/Dropbox/Programming/Python/RA/realkd.py/realkd/rules.py:610\u001b[0m, in \u001b[0;36mRuleBoostingEstimator.fit\u001b[0;34m(self, data, target, feature_names)\u001b[0m\n\u001b[1;32m    608\u001b[0m scores \u001b[39m=\u001b[39m \u001b[39mself\u001b[39m\u001b[39m.\u001b[39mrules_(data)\n\u001b[1;32m    609\u001b[0m estimator \u001b[39m=\u001b[39m \u001b[39mself\u001b[39m\u001b[39m.\u001b[39m_next_base_learner()\n\u001b[0;32m--> 610\u001b[0m estimator\u001b[39m.\u001b[39;49mfit(data, target, scores, \u001b[39mmax\u001b[39;49m(\u001b[39mself\u001b[39;49m\u001b[39m.\u001b[39;49mverbose\u001b[39m-\u001b[39;49m\u001b[39m1\u001b[39;49m, \u001b[39m0\u001b[39;49m))\n\u001b[1;32m    611\u001b[0m \u001b[39mif\u001b[39;00m \u001b[39mself\u001b[39m\u001b[39m.\u001b[39mverbose:\n\u001b[1;32m    612\u001b[0m     \u001b[39mprint\u001b[39m(estimator\u001b[39m.\u001b[39mrule_)\n",
      "File \u001b[0;32m/mnt/c/Users/locke/Dropbox/Programming/Python/RA/realkd.py/realkd/rules.py:481\u001b[0m, in \u001b[0;36mXGBRuleEstimator.fit\u001b[0;34m(self, data, target, scores, verbose)\u001b[0m\n\u001b[1;32m    467\u001b[0m \u001b[39m\u001b[39m\u001b[39m\"\"\"\u001b[39;00m\n\u001b[1;32m    468\u001b[0m \u001b[39mFits rule to provide best loss reduction on given data\u001b[39;00m\n\u001b[1;32m    469\u001b[0m \u001b[39m(where the baseline prediction scores are either given\u001b[39;00m\n\u001b[0;32m   (...)\u001b[0m\n\u001b[1;32m    478\u001b[0m \n\u001b[1;32m    479\u001b[0m \u001b[39m\"\"\"\u001b[39;00m\n\u001b[1;32m    480\u001b[0m obj \u001b[39m=\u001b[39m GradientBoostingObjective(data, target, predictions\u001b[39m=\u001b[39mscores, loss\u001b[39m=\u001b[39m\u001b[39mself\u001b[39m\u001b[39m.\u001b[39mloss, reg\u001b[39m=\u001b[39m\u001b[39mself\u001b[39m\u001b[39m.\u001b[39mreg)\n\u001b[0;32m--> 481\u001b[0m q \u001b[39m=\u001b[39m obj\u001b[39m.\u001b[39;49msearch(method\u001b[39m=\u001b[39;49m\u001b[39mself\u001b[39;49m\u001b[39m.\u001b[39;49msearch, verbose\u001b[39m=\u001b[39;49mverbose, \u001b[39m*\u001b[39;49m\u001b[39m*\u001b[39;49m\u001b[39mself\u001b[39;49m\u001b[39m.\u001b[39;49msearch_params) \u001b[39mif\u001b[39;00m \u001b[39mself\u001b[39m\u001b[39m.\u001b[39mquery \u001b[39mis\u001b[39;00m \u001b[39mNone\u001b[39;00m \u001b[39melse\u001b[39;00m \u001b[39mself\u001b[39m\u001b[39m.\u001b[39mquery\n\u001b[1;32m    482\u001b[0m y \u001b[39m=\u001b[39m obj\u001b[39m.\u001b[39mopt_weight(q)\n\u001b[1;32m    483\u001b[0m \u001b[39mself\u001b[39m\u001b[39m.\u001b[39mrule_ \u001b[39m=\u001b[39m Rule(q, y)\n",
      "File \u001b[0;32m/mnt/c/Users/locke/Dropbox/Programming/Python/RA/realkd.py/realkd/rules.py:368\u001b[0m, in \u001b[0;36mGradientBoostingObjective.search\u001b[0;34m(self, method, verbose, **search_params)\u001b[0m\n\u001b[1;32m    366\u001b[0m \u001b[39mdef\u001b[39;00m \u001b[39msearch\u001b[39m(\u001b[39mself\u001b[39m, method\u001b[39m=\u001b[39m\u001b[39m'\u001b[39m\u001b[39mgreedy\u001b[39m\u001b[39m'\u001b[39m, verbose\u001b[39m=\u001b[39m\u001b[39mFalse\u001b[39;00m, \u001b[39m*\u001b[39m\u001b[39m*\u001b[39msearch_params):\n\u001b[1;32m    367\u001b[0m     \u001b[39mfrom\u001b[39;00m \u001b[39mrealkd\u001b[39;00m\u001b[39m.\u001b[39;00m\u001b[39msearch\u001b[39;00m \u001b[39mimport\u001b[39;00m search_methods\n\u001b[0;32m--> 368\u001b[0m     ctx \u001b[39m=\u001b[39m Context\u001b[39m.\u001b[39;49mfrom_array(\u001b[39mself\u001b[39;49m\u001b[39m.\u001b[39;49mdata, \u001b[39m*\u001b[39;49m\u001b[39m*\u001b[39;49msearch_params)\n\u001b[1;32m    369\u001b[0m     \u001b[39mif\u001b[39;00m verbose \u001b[39m>\u001b[39m\u001b[39m=\u001b[39m \u001b[39m2\u001b[39m:\n\u001b[1;32m    370\u001b[0m         \u001b[39mprint\u001b[39m(\u001b[39mf\u001b[39m\u001b[39m'\u001b[39m\u001b[39mCreated search context with \u001b[39m\u001b[39m{\u001b[39;00m\u001b[39mlen\u001b[39m(ctx\u001b[39m.\u001b[39mattributes)\u001b[39m}\u001b[39;00m\u001b[39m attributes\u001b[39m\u001b[39m'\u001b[39m)\n",
      "File \u001b[0;32m/mnt/c/Users/locke/Dropbox/Programming/Python/RA/realkd.py/realkd/search.py:214\u001b[0m, in \u001b[0;36mContext.from_array\u001b[0;34m(data, without, max_col_attr, sort_attributes, discretization, **kwargs)\u001b[0m\n\u001b[1;32m    211\u001b[0m                 \u001b[39mif\u001b[39;00m i \u001b[39m>\u001b[39m \u001b[39m0\u001b[39m:\n\u001b[1;32m    212\u001b[0m                     attributes\u001b[39m.\u001b[39mappend(IndexValueProposition(\u001b[39m\"\u001b[39m\u001b[39m>=\u001b[39m\u001b[39m\"\u001b[39m, i, v))\n\u001b[0;32m--> 214\u001b[0m \u001b[39mreturn\u001b[39;00m Context(attributes, data, sort_attributes)\n",
      "File \u001b[0;32m/mnt/c/Users/locke/Dropbox/Programming/Python/RA/realkd.py/realkd/search.py:231\u001b[0m, in \u001b[0;36mContext.__init__\u001b[0;34m(self, attributes, objects, sort_attributes)\u001b[0m\n\u001b[1;32m    228\u001b[0m \u001b[39mself\u001b[39m\u001b[39m.\u001b[39mm \u001b[39m=\u001b[39m \u001b[39mlen\u001b[39m(objects)\n\u001b[1;32m    229\u001b[0m \u001b[39m# for now we materialise the whole binary relation; in the future can be on demand\u001b[39;00m\n\u001b[1;32m    230\u001b[0m \u001b[39m# self.extents = [SortedSet([i for i in range(self.m) if attributes[j](objects[i])]) for j in range(self.n)]\u001b[39;00m\n\u001b[0;32m--> 231\u001b[0m \u001b[39mself\u001b[39m\u001b[39m.\u001b[39mextents \u001b[39m=\u001b[39m [array([i \u001b[39mfor\u001b[39;00m i \u001b[39min\u001b[39;00m \u001b[39mrange\u001b[39m(\u001b[39mself\u001b[39m\u001b[39m.\u001b[39mm) \u001b[39mif\u001b[39;00m attributes[j](objects[i])], dtype\u001b[39m=\u001b[39m\u001b[39m'\u001b[39m\u001b[39mint64\u001b[39m\u001b[39m'\u001b[39m) \u001b[39mfor\u001b[39;00m j \u001b[39min\u001b[39;00m \u001b[39mrange\u001b[39m(\u001b[39mself\u001b[39m\u001b[39m.\u001b[39mn)]\n\u001b[1;32m    232\u001b[0m \u001b[39mself\u001b[39m\u001b[39m.\u001b[39mbit_extents \u001b[39m=\u001b[39m [Context\u001b[39m.\u001b[39mget_bit_array_from_indexes(\u001b[39mself\u001b[39m\u001b[39m.\u001b[39mextents[j], \u001b[39mself\u001b[39m\u001b[39m.\u001b[39mm) \u001b[39mfor\u001b[39;00m j \u001b[39min\u001b[39;00m \u001b[39mrange\u001b[39m(\u001b[39mself\u001b[39m\u001b[39m.\u001b[39mn)]\n\u001b[1;32m    234\u001b[0m \u001b[39m# sort attribute in ascending order of extent size\u001b[39;00m\n",
      "File \u001b[0;32m/mnt/c/Users/locke/Dropbox/Programming/Python/RA/realkd.py/realkd/search.py:231\u001b[0m, in \u001b[0;36m<listcomp>\u001b[0;34m(.0)\u001b[0m\n\u001b[1;32m    228\u001b[0m \u001b[39mself\u001b[39m\u001b[39m.\u001b[39mm \u001b[39m=\u001b[39m \u001b[39mlen\u001b[39m(objects)\n\u001b[1;32m    229\u001b[0m \u001b[39m# for now we materialise the whole binary relation; in the future can be on demand\u001b[39;00m\n\u001b[1;32m    230\u001b[0m \u001b[39m# self.extents = [SortedSet([i for i in range(self.m) if attributes[j](objects[i])]) for j in range(self.n)]\u001b[39;00m\n\u001b[0;32m--> 231\u001b[0m \u001b[39mself\u001b[39m\u001b[39m.\u001b[39mextents \u001b[39m=\u001b[39m [array([i \u001b[39mfor\u001b[39;00m i \u001b[39min\u001b[39;00m \u001b[39mrange\u001b[39m(\u001b[39mself\u001b[39m\u001b[39m.\u001b[39mm) \u001b[39mif\u001b[39;00m attributes[j](objects[i])], dtype\u001b[39m=\u001b[39m\u001b[39m'\u001b[39m\u001b[39mint64\u001b[39m\u001b[39m'\u001b[39m) \u001b[39mfor\u001b[39;00m j \u001b[39min\u001b[39;00m \u001b[39mrange\u001b[39m(\u001b[39mself\u001b[39m\u001b[39m.\u001b[39mn)]\n\u001b[1;32m    232\u001b[0m \u001b[39mself\u001b[39m\u001b[39m.\u001b[39mbit_extents \u001b[39m=\u001b[39m [Context\u001b[39m.\u001b[39mget_bit_array_from_indexes(\u001b[39mself\u001b[39m\u001b[39m.\u001b[39mextents[j], \u001b[39mself\u001b[39m\u001b[39m.\u001b[39mm) \u001b[39mfor\u001b[39;00m j \u001b[39min\u001b[39;00m \u001b[39mrange\u001b[39m(\u001b[39mself\u001b[39m\u001b[39m.\u001b[39mn)]\n\u001b[1;32m    234\u001b[0m \u001b[39m# sort attribute in ascending order of extent size\u001b[39;00m\n",
      "File \u001b[0;32m/mnt/c/Users/locke/Dropbox/Programming/Python/RA/realkd.py/realkd/search.py:231\u001b[0m, in \u001b[0;36m<listcomp>\u001b[0;34m(.0)\u001b[0m\n\u001b[1;32m    228\u001b[0m \u001b[39mself\u001b[39m\u001b[39m.\u001b[39mm \u001b[39m=\u001b[39m \u001b[39mlen\u001b[39m(objects)\n\u001b[1;32m    229\u001b[0m \u001b[39m# for now we materialise the whole binary relation; in the future can be on demand\u001b[39;00m\n\u001b[1;32m    230\u001b[0m \u001b[39m# self.extents = [SortedSet([i for i in range(self.m) if attributes[j](objects[i])]) for j in range(self.n)]\u001b[39;00m\n\u001b[0;32m--> 231\u001b[0m \u001b[39mself\u001b[39m\u001b[39m.\u001b[39mextents \u001b[39m=\u001b[39m [array([i \u001b[39mfor\u001b[39;00m i \u001b[39min\u001b[39;00m \u001b[39mrange\u001b[39m(\u001b[39mself\u001b[39m\u001b[39m.\u001b[39mm) \u001b[39mif\u001b[39;00m attributes[j](objects[i])], dtype\u001b[39m=\u001b[39m\u001b[39m'\u001b[39m\u001b[39mint64\u001b[39m\u001b[39m'\u001b[39m) \u001b[39mfor\u001b[39;00m j \u001b[39min\u001b[39;00m \u001b[39mrange\u001b[39m(\u001b[39mself\u001b[39m\u001b[39m.\u001b[39mn)]\n\u001b[1;32m    232\u001b[0m \u001b[39mself\u001b[39m\u001b[39m.\u001b[39mbit_extents \u001b[39m=\u001b[39m [Context\u001b[39m.\u001b[39mget_bit_array_from_indexes(\u001b[39mself\u001b[39m\u001b[39m.\u001b[39mextents[j], \u001b[39mself\u001b[39m\u001b[39m.\u001b[39mm) \u001b[39mfor\u001b[39;00m j \u001b[39min\u001b[39;00m \u001b[39mrange\u001b[39m(\u001b[39mself\u001b[39m\u001b[39m.\u001b[39mn)]\n\u001b[1;32m    234\u001b[0m \u001b[39m# sort attribute in ascending order of extent size\u001b[39;00m\n",
      "File \u001b[0;32m/mnt/c/Users/locke/Dropbox/Programming/Python/RA/realkd.py/realkd/logic.py:21\u001b[0m, in \u001b[0;36mIndexValueProposition.__call__\u001b[0;34m(self, rows)\u001b[0m\n\u001b[1;32m     20\u001b[0m \u001b[39mdef\u001b[39;00m \u001b[39m__call__\u001b[39m(\u001b[39mself\u001b[39m, rows):\n\u001b[0;32m---> 21\u001b[0m     right_column \u001b[39m=\u001b[39m np\u001b[39m.\u001b[39;49marray(rows)\u001b[39m.\u001b[39;49mtake(\u001b[39mself\u001b[39;49m\u001b[39m.\u001b[39;49mindex, \u001b[39m-\u001b[39;49m\u001b[39m1\u001b[39;49m)\n\u001b[1;32m     23\u001b[0m     \u001b[39mif\u001b[39;00m \u001b[39mself\u001b[39m\u001b[39m.\u001b[39mcomparison \u001b[39m==\u001b[39m \u001b[39m\"\u001b[39m\u001b[39m>=\u001b[39m\u001b[39m\"\u001b[39m:\n\u001b[1;32m     24\u001b[0m         \u001b[39mreturn\u001b[39;00m right_column \u001b[39m>\u001b[39m\u001b[39m=\u001b[39m \u001b[39mself\u001b[39m\u001b[39m.\u001b[39mvalue\n",
      "\u001b[0;31mIndexError\u001b[0m: index 4 is out of bounds for axis 0 with size 4"
     ]
    }
   ],
   "source": [
    "titanic = pd.read_csv('../datasets/titanic/train.csv')\n",
    "titanic.dropna(inplace=True)\n",
    "survived = titanic.Survived\n",
    "titanic.drop(columns=['PassengerId', 'Name', 'Ticket', 'Cabin', 'Survived'], inplace=True)\n",
    "titanic.drop(columns=['Sex', 'Embarked'],  inplace=True)\n",
    "titanic2 = titanic.drop(columns=['Age'])\n",
    "titanic = titanic.drop(columns=['Parch'])\n",
    "\n",
    "cols = titanic.columns.to_list()\n",
    "cols = cols[-1:] + cols[:-1]\n",
    "titanic3 = titanic[cols]\n",
    "\n",
    "re2 = realkd.rules.RuleBoostingEstimator(base_learner=realkd.rules.XGBRuleEstimator(loss=realkd.rules.logistic_loss))\n",
    "print(re2.fit(titanic, survived.replace(0, -1)).rules_)\n"
   ]
  }
 ],
 "metadata": {
  "kernelspec": {
   "display_name": "env",
   "language": "python",
   "name": "python3"
  },
  "language_info": {
   "codemirror_mode": {
    "name": "ipython",
    "version": 3
   },
   "file_extension": ".py",
   "mimetype": "text/x-python",
   "name": "python",
   "nbconvert_exporter": "python",
   "pygments_lexer": "ipython3",
   "version": "3.10.12"
  },
  "orig_nbformat": 4
 },
 "nbformat": 4,
 "nbformat_minor": 2
}
