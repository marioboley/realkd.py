{
 "cells": [
  {
   "cell_type": "code",
   "execution_count": 30,
   "metadata": {},
   "outputs": [
    {
     "ename": "TypeError",
     "evalue": "Context.from_array() missing 1 required positional argument: 'labels'",
     "output_type": "error",
     "traceback": [
      "\u001b[0;31m---------------------------------------------------------------------------\u001b[0m",
      "\u001b[0;31mTypeError\u001b[0m                                 Traceback (most recent call last)",
      "\u001b[1;32m/mnt/c/Users/locke/Dropbox/Programming/Python/RA/realkd.py/realkd/rules use.ipynb Cell 1\u001b[0m line \u001b[0;36m1\n\u001b[1;32m     <a href='vscode-notebook-cell://wsl%2Bubuntu-2/mnt/c/Users/locke/Dropbox/Programming/Python/RA/realkd.py/realkd/rules%20use.ipynb#W1sdnNjb2RlLXJlbW90ZQ%3D%3D?line=13'>14</a>\u001b[0m titanic\u001b[39m.\u001b[39mdrop(columns\u001b[39m=\u001b[39m[\u001b[39m'\u001b[39m\u001b[39mSex\u001b[39m\u001b[39m'\u001b[39m, \u001b[39m'\u001b[39m\u001b[39mEmbarked\u001b[39m\u001b[39m'\u001b[39m],  inplace\u001b[39m=\u001b[39m\u001b[39mTrue\u001b[39;00m)\n\u001b[1;32m     <a href='vscode-notebook-cell://wsl%2Bubuntu-2/mnt/c/Users/locke/Dropbox/Programming/Python/RA/realkd.py/realkd/rules%20use.ipynb#W1sdnNjb2RlLXJlbW90ZQ%3D%3D?line=14'>15</a>\u001b[0m re \u001b[39m=\u001b[39m realkd\u001b[39m.\u001b[39mrules\u001b[39m.\u001b[39mRuleBoostingEstimator(base_learner\u001b[39m=\u001b[39mrealkd\u001b[39m.\u001b[39mrules\u001b[39m.\u001b[39mXGBRuleEstimator(loss\u001b[39m=\u001b[39mrealkd\u001b[39m.\u001b[39mrules\u001b[39m.\u001b[39mlogistic_loss))\n\u001b[0;32m---> <a href='vscode-notebook-cell://wsl%2Bubuntu-2/mnt/c/Users/locke/Dropbox/Programming/Python/RA/realkd.py/realkd/rules%20use.ipynb#W1sdnNjb2RlLXJlbW90ZQ%3D%3D?line=15'>16</a>\u001b[0m re\u001b[39m.\u001b[39;49mfit(titanic, survived\u001b[39m.\u001b[39;49mreplace(\u001b[39m0\u001b[39;49m, \u001b[39m-\u001b[39;49m\u001b[39m1\u001b[39;49m))\u001b[39m.\u001b[39mrules_\n",
      "File \u001b[0;32m/mnt/c/Users/locke/Dropbox/Programming/Python/RA/realkd.py/realkd/rules.py:698\u001b[0m, in \u001b[0;36mRuleBoostingEstimator.fit\u001b[0;34m(self, data, target, feature_names)\u001b[0m\n\u001b[1;32m    696\u001b[0m scores \u001b[39m=\u001b[39m \u001b[39mself\u001b[39m\u001b[39m.\u001b[39mrules_(data)\n\u001b[1;32m    697\u001b[0m estimator \u001b[39m=\u001b[39m \u001b[39mself\u001b[39m\u001b[39m.\u001b[39m_next_base_learner()\n\u001b[0;32m--> 698\u001b[0m estimator\u001b[39m.\u001b[39;49mfit(data, target, scores, \u001b[39mmax\u001b[39;49m(\u001b[39mself\u001b[39;49m\u001b[39m.\u001b[39;49mverbose\u001b[39m-\u001b[39;49m\u001b[39m1\u001b[39;49m, \u001b[39m0\u001b[39;49m))\n\u001b[1;32m    699\u001b[0m \u001b[39mif\u001b[39;00m \u001b[39mself\u001b[39m\u001b[39m.\u001b[39mverbose:\n\u001b[1;32m    700\u001b[0m     \u001b[39mprint\u001b[39m(estimator\u001b[39m.\u001b[39mrule_)\n",
      "File \u001b[0;32m/mnt/c/Users/locke/Dropbox/Programming/Python/RA/realkd.py/realkd/rules.py:569\u001b[0m, in \u001b[0;36mXGBRuleEstimator.fit\u001b[0;34m(self, data, target, scores, verbose)\u001b[0m\n\u001b[1;32m    555\u001b[0m \u001b[39m\u001b[39m\u001b[39m\"\"\"\u001b[39;00m\n\u001b[1;32m    556\u001b[0m \u001b[39mFits rule to provide best loss reduction on given data\u001b[39;00m\n\u001b[1;32m    557\u001b[0m \u001b[39m(where the baseline prediction scores are either given\u001b[39;00m\n\u001b[0;32m   (...)\u001b[0m\n\u001b[1;32m    566\u001b[0m \n\u001b[1;32m    567\u001b[0m \u001b[39m\"\"\"\u001b[39;00m\n\u001b[1;32m    568\u001b[0m obj \u001b[39m=\u001b[39m GradientBoostingObjective(data, target, predictions\u001b[39m=\u001b[39mscores, loss\u001b[39m=\u001b[39m\u001b[39mself\u001b[39m\u001b[39m.\u001b[39mloss, reg\u001b[39m=\u001b[39m\u001b[39mself\u001b[39m\u001b[39m.\u001b[39mreg)\n\u001b[0;32m--> 569\u001b[0m q \u001b[39m=\u001b[39m obj\u001b[39m.\u001b[39;49msearch(method\u001b[39m=\u001b[39;49m\u001b[39mself\u001b[39;49m\u001b[39m.\u001b[39;49msearch, verbose\u001b[39m=\u001b[39;49mverbose, \u001b[39m*\u001b[39;49m\u001b[39m*\u001b[39;49m\u001b[39mself\u001b[39;49m\u001b[39m.\u001b[39;49msearch_params) \u001b[39mif\u001b[39;00m \u001b[39mself\u001b[39m\u001b[39m.\u001b[39mquery \u001b[39mis\u001b[39;00m \u001b[39mNone\u001b[39;00m \u001b[39melse\u001b[39;00m \u001b[39mself\u001b[39m\u001b[39m.\u001b[39mquery\n\u001b[1;32m    570\u001b[0m y \u001b[39m=\u001b[39m obj\u001b[39m.\u001b[39mopt_weight(q)\n\u001b[1;32m    571\u001b[0m \u001b[39mself\u001b[39m\u001b[39m.\u001b[39mrule_ \u001b[39m=\u001b[39m Rule(q, y)\n",
      "File \u001b[0;32m/mnt/c/Users/locke/Dropbox/Programming/Python/RA/realkd.py/realkd/rules.py:456\u001b[0m, in \u001b[0;36mGradientBoostingObjective.search\u001b[0;34m(self, method, verbose, **search_params)\u001b[0m\n\u001b[1;32m    454\u001b[0m \u001b[39mdef\u001b[39;00m \u001b[39msearch\u001b[39m(\u001b[39mself\u001b[39m, method\u001b[39m=\u001b[39m\u001b[39m'\u001b[39m\u001b[39mgreedy\u001b[39m\u001b[39m'\u001b[39m, verbose\u001b[39m=\u001b[39m\u001b[39mFalse\u001b[39;00m, \u001b[39m*\u001b[39m\u001b[39m*\u001b[39msearch_params):\n\u001b[1;32m    455\u001b[0m     \u001b[39mfrom\u001b[39;00m \u001b[39mrealkd\u001b[39;00m\u001b[39m.\u001b[39;00m\u001b[39msearch\u001b[39;00m \u001b[39mimport\u001b[39;00m search_methods\n\u001b[0;32m--> 456\u001b[0m     ctx \u001b[39m=\u001b[39m Context\u001b[39m.\u001b[39;49mfrom_array(\u001b[39mself\u001b[39;49m\u001b[39m.\u001b[39;49mdata, \u001b[39m*\u001b[39;49m\u001b[39m*\u001b[39;49msearch_params)\n\u001b[1;32m    457\u001b[0m     \u001b[39mif\u001b[39;00m verbose \u001b[39m>\u001b[39m\u001b[39m=\u001b[39m \u001b[39m2\u001b[39m:\n\u001b[1;32m    458\u001b[0m         \u001b[39mprint\u001b[39m(\u001b[39mf\u001b[39m\u001b[39m'\u001b[39m\u001b[39mCreated search context with \u001b[39m\u001b[39m{\u001b[39;00m\u001b[39mlen\u001b[39m(ctx\u001b[39m.\u001b[39mattributes)\u001b[39m}\u001b[39;00m\u001b[39m attributes\u001b[39m\u001b[39m'\u001b[39m)\n",
      "\u001b[0;31mTypeError\u001b[0m: Context.from_array() missing 1 required positional argument: 'labels'"
     ]
    }
   ],
   "source": [
    "# TODO: Delete this file before merging to development\n",
    "\n",
    "import pandas as pd\n",
    "import importlib\n",
    "\n",
    "from sklearn.metrics import roc_auc_score\n",
    "import realkd.rules\n",
    "importlib.reload(realkd.rules)\n",
    "\n",
    "titanic = pd.read_csv('../datasets/titanic/train.csv')\n",
    "titanic.dropna(inplace=True)\n",
    "survived = titanic.Survived\n",
    "titanic.drop(columns=['PassengerId', 'Name', 'Ticket', 'Cabin', 'Survived'], inplace=True)\n",
    "titanic.drop(columns=['Sex', 'Embarked'],  inplace=True)\n",
    "re = realkd.rules.RuleBoostingEstimator(base_learner=realkd.rules.XGBRuleEstimator(loss=realkd.rules.logistic_loss))\n",
    "re.fit(titanic, survived.replace(0, -1)).rules_\n"
   ]
  }
 ],
 "metadata": {
  "kernelspec": {
   "display_name": "env",
   "language": "python",
   "name": "python3"
  },
  "language_info": {
   "codemirror_mode": {
    "name": "ipython",
    "version": 3
   },
   "file_extension": ".py",
   "mimetype": "text/x-python",
   "name": "python",
   "nbconvert_exporter": "python",
   "pygments_lexer": "ipython3",
   "version": "3.10.12"
  },
  "orig_nbformat": 4
 },
 "nbformat": 4,
 "nbformat_minor": 2
}
