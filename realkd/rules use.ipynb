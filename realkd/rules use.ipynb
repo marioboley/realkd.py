{
 "cells": [
  {
   "cell_type": "code",
   "execution_count": 33,
   "metadata": {},
   "outputs": [
    {
     "name": "stdout",
     "output_type": "stream",
     "text": [
      "   -0.3021 if x4<=80.0\n",
      "   +0.5066 if x0<=1.0 & x1>=10.5\n",
      "   +0.7032 if x1<=6.0 & x4<=80.0\n",
      "['Pclass' 'Age' 'SibSp' 'Parch' 'Fare']\n"
     ]
    },
    {
     "data": {
      "text/plain": [
       "array([ 1.  ,  0.  ,  1.  ,  0.  ,  3.  , 22.  ,  1.  ,  0.  ,  7.25])"
      ]
     },
     "execution_count": 33,
     "metadata": {},
     "output_type": "execute_result"
    }
   ],
   "source": [
    "# importlib.reload(realkd.search)\n",
    "# importlib.reload(realkd.logic)\n",
    "# TODO: Delete this file before merging to development\n",
    "\n",
    "import pandas as pd\n",
    "import importlib\n",
    "from sklearn.compose import make_column_transformer\n",
    "\n",
    "from sklearn.metrics import roc_auc_score\n",
    "from sklearn.preprocessing import OneHotEncoder\n",
    "from realkd.datasets import concat_with_unique\n",
    "importlib.reload(realkd.rule_boosting)\n",
    "import realkd.rule_boosting\n",
    "# import realkd.search.core_query_tree\n",
    "import realkd.rules\n",
    "# import realkd.loss\n",
    "# import realkd.loss\n",
    "\n",
    "titanic = pd.read_csv('../datasets/titanic/train.csv')\n",
    "survived = titanic.Survived\n",
    "column_trans = make_column_transformer(\n",
    "    (OneHotEncoder(feature_name_combiner=concat_with_unique, drop='first'), ['Sex', 'Embarked']),\n",
    "    ('passthrough', ['Pclass', 'Age', 'SibSp', 'Parch', 'Fare']), verbose_feature_names_out=False)\n",
    "X = column_trans.fit_transform(titanic)\n",
    "\n",
    "\n",
    "titanic.drop(columns=['PassengerId', 'Name', 'Ticket', 'Cabin', 'Survived'], inplace=True)\n",
    "# titanic.drop(columns=['Sex', 'Embarked'],  inplace=True)\n",
    "feature_names = column_trans.get_feature_names_out()\n",
    "\n",
    "re = realkd.rule_boosting.RuleBoostingEstimator()\n",
    "print(re.fit(titanic, survived.replace(0, -1)).rules_)\n",
    "# re.fit(X, survived.replace(0, -1)).get_rules_(labels)\n",
    "print(re.feature_names_in_)  # (no feature names in)\n",
    "X[0]"
   ]
  },
  {
   "cell_type": "code",
   "execution_count": 77,
   "metadata": {},
   "outputs": [
    {
     "name": "stdout",
     "output_type": "stream",
     "text": [
      "[x0==1, x1==1, x2==1, x3==1, x4==1, x5==1, x6<=1.0, x6<=2.0, x6>=2.0, x6>=3.0, x7==nan, x7<=19.0, x7>=19.0, x7<=25.0, x7>=25.0, x7<=31.800000000000068, x7>=31.800000000000068, x7<=41.0, x7>=41.0, x7<=80.0, x7>=80.0, x8<=1.0, x8>=1.0, x8<=8.0, x8>=8.0, x9<=1.0, x9>=1.0, x9<=6.0, x9>=6.0, x10<=7.8542, x10>=7.8542, x10<=10.5, x10>=10.5, x10<=21.67920000000004, x10>=21.67920000000004, x10<=39.6875, x10>=39.6875, x10<=512.3292, x10>=512.3292]\n",
      "[x0==1, x1==1, x2==1, x3==1, x4==1, x5==1, x6<=1.0, x6<=2.0, x6>=2.0, x6>=3.0, x7==nan, x7<=19.0, x7>=19.0, x7<=25.0, x7>=25.0, x7<=31.800000000000068, x7>=31.800000000000068, x7<=41.0, x7>=41.0, x7<=80.0, x7>=80.0, x8<=1.0, x8>=1.0, x8<=8.0, x8>=8.0, x9<=1.0, x9>=1.0, x9<=6.0, x9>=6.0, x10<=7.8542, x10>=7.8542, x10<=10.5, x10>=10.5, x10<=21.67920000000004, x10>=21.67920000000004, x10<=39.6875, x10>=39.6875, x10<=512.3292, x10>=512.3292]\n",
      "[x0==1, x1==1, x2==1, x3==1, x4==1, x5==1, x6<=1.0, x6<=2.0, x6>=2.0, x6>=3.0, x7==nan, x7<=19.0, x7>=19.0, x7<=25.0, x7>=25.0, x7<=31.800000000000068, x7>=31.800000000000068, x7<=41.0, x7>=41.0, x7<=80.0, x7>=80.0, x8<=1.0, x8>=1.0, x8<=8.0, x8>=8.0, x9<=1.0, x9>=1.0, x9<=6.0, x9>=6.0, x10<=7.8542, x10>=7.8542, x10<=10.5, x10>=10.5, x10<=21.67920000000004, x10>=21.67920000000004, x10<=39.6875, x10>=39.6875, x10<=512.3292, x10>=512.3292]\n",
      "   -1.4248 if x1==1 & x6>=2.0\n",
      "   +1.7471 if x0==1 & x6<=2.0\n",
      "   +2.5598 if x10>=7.8542 & x1==1 & x7<=19.0 & x8<=1.0 & x9>=1.0\n",
      "['Sex$==$female' 'Sex$==$male' 'Embarked$==$C' 'Embarked$==$Q'\n",
      " 'Embarked$==$S' 'Embarked$==$nan' 'Pclass' 'Age' 'SibSp' 'Parch' 'Fare']\n"
     ]
    },
    {
     "ename": "IndexError",
     "evalue": "index 0 is out of bounds for axis 0 with size 0",
     "output_type": "error",
     "traceback": [
      "\u001b[0;31m---------------------------------------------------------------------------\u001b[0m",
      "\u001b[0;31mIndexError\u001b[0m                                Traceback (most recent call last)",
      "\u001b[1;32m/mnt/c/Users/locke/Dropbox/Programming/Python/RA/realkd.py/realkd/rules use.ipynb Cell 2\u001b[0m line \u001b[0;36m3\n\u001b[1;32m     <a href='vscode-notebook-cell://wsl%2Bubuntu-2/mnt/c/Users/locke/Dropbox/Programming/Python/RA/realkd.py/realkd/rules%20use.ipynb#W1sdnNjb2RlLXJlbW90ZQ%3D%3D?line=33'>34</a>\u001b[0m \u001b[39m# re.fit(X, survived.replace(0, -1)).get_rules_(labels)\u001b[39;00m\n\u001b[1;32m     <a href='vscode-notebook-cell://wsl%2Bubuntu-2/mnt/c/Users/locke/Dropbox/Programming/Python/RA/realkd.py/realkd/rules%20use.ipynb#W1sdnNjb2RlLXJlbW90ZQ%3D%3D?line=34'>35</a>\u001b[0m \u001b[39mprint\u001b[39m(feature_names)  \u001b[39m# (no feature names in)\u001b[39;00m\n\u001b[0;32m---> <a href='vscode-notebook-cell://wsl%2Bubuntu-2/mnt/c/Users/locke/Dropbox/Programming/Python/RA/realkd.py/realkd/rules%20use.ipynb#W1sdnNjb2RlLXJlbW90ZQ%3D%3D?line=36'>37</a>\u001b[0m X[pd\u001b[39m.\u001b[39;49misnull(X[:, \u001b[39m5\u001b[39;49m])][\u001b[39m0\u001b[39;49m]\n\u001b[1;32m     <a href='vscode-notebook-cell://wsl%2Bubuntu-2/mnt/c/Users/locke/Dropbox/Programming/Python/RA/realkd.py/realkd/rules%20use.ipynb#W1sdnNjb2RlLXJlbW90ZQ%3D%3D?line=37'>38</a>\u001b[0m re\u001b[39m.\u001b[39mget_params()\n",
      "\u001b[0;31mIndexError\u001b[0m: index 0 is out of bounds for axis 0 with size 0"
     ]
    }
   ],
   "source": [
    "\n",
    "import numpy as np\n",
    "import pandas as pd\n",
    "import importlib\n",
    "from sklearn.compose import make_column_transformer\n",
    "\n",
    "from sklearn.metrics import roc_auc_score\n",
    "from sklearn.preprocessing import OneHotEncoder\n",
    "from realkd.datasets import concat_with_unique\n",
    "from realkd.loss import LogisticLoss\n",
    "importlib.reload(realkd.rule_boosting)\n",
    "import realkd.rule_boosting\n",
    "importlib.reload(realkd.search.context)\n",
    "import realkd.search.context\n",
    "importlib.reload(realkd.search)\n",
    "import realkd.search\n",
    "import realkd.rules\n",
    "# import realkd.loss\n",
    "# import realkd.loss\n",
    "\n",
    "titanic = pd.read_csv('../datasets/titanic/train.csv')\n",
    "survived = titanic.Survived\n",
    "column_trans = make_column_transformer(\n",
    "    (OneHotEncoder(feature_name_combiner=concat_with_unique, drop=None), ['Sex', 'Embarked']),\n",
    "    ('passthrough', ['Pclass', 'Age', 'SibSp', 'Parch', 'Fare']), verbose_feature_names_out=False)\n",
    "X = column_trans.fit_transform(titanic)\n",
    "\n",
    "\n",
    "titanic.drop(columns=['PassengerId', 'Name', 'Ticket', 'Cabin', 'Survived'], inplace=True)\n",
    "titanic.drop(columns=['Sex', 'Embarked'],  inplace=True)\n",
    "feature_names = column_trans.get_feature_names_out()\n",
    "\n",
    "re = realkd.rule_boosting.RuleBoostingEstimator(num_rules=3, base_learner=realkd.rule_boosting.XGBRuleEstimator(loss=LogisticLoss))\n",
    "print(re.fit(X, survived.replace(0, -1)).rules_)\n",
    "# re.fit(X, survived.replace(0, -1)).get_rules_(labels)\n",
    "print(feature_names)  # (no feature names in)\n",
    "\n",
    "X[pd.isnull(X[:, 5])][0]\n",
    "re.get_params()\n"
   ]
  }
 ],
 "metadata": {
  "kernelspec": {
   "display_name": "env",
   "language": "python",
   "name": "python3"
  },
  "language_info": {
   "codemirror_mode": {
    "name": "ipython",
    "version": 3
   },
   "file_extension": ".py",
   "mimetype": "text/x-python",
   "name": "python",
   "nbconvert_exporter": "python",
   "pygments_lexer": "ipython3",
   "version": "3.10.12"
  },
  "orig_nbformat": 4
 },
 "nbformat": 4,
 "nbformat_minor": 2
}
