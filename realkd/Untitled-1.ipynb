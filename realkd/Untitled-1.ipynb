{
 "cells": [
  {
   "cell_type": "code",
   "execution_count": 26,
   "metadata": {},
   "outputs": [],
   "source": [
    "import realkd.datasets\n",
    "import numpy as np\n",
    "from pprint import pprint\n",
    "from sklearn.compose import make_column_transformer\n",
    "import importlib\n",
    "from sklearn.preprocessing import OneHotEncoder\n",
    "\n"
   ]
  },
  {
   "cell_type": "code",
   "execution_count": 29,
   "metadata": {},
   "outputs": [
    {
     "data": {
      "text/plain": [
       "array(['onehotencoder__Sex_female', 'onehotencoder__Sex_male',\n",
       "       'onehotencoder__Embarked_C', 'onehotencoder__Embarked_Q',\n",
       "       'onehotencoder__Embarked_S', 'onehotencoder__Embarked_nan',\n",
       "       'passthrough__Fare', 'passthrough__SibSp', 'passthrough__Parch',\n",
       "       'passthrough__A_ge', 'passthrough__Pclass'], dtype=object)"
      ]
     },
     "execution_count": 29,
     "metadata": {},
     "output_type": "execute_result"
    }
   ],
   "source": [
    "def concat_with_unique(a, b):\n",
    "    return a + '$==$' + b\n",
    "\n",
    "importlib.reload(realkd.datasets)\n",
    "tit = realkd.datasets.titanic_data(file_override='/mnt/c/Users/locke/Dropbox/Programming/Python/RA/realkd.py/datasets/titanic/train.csv')\n",
    "tit[\"A_ge\"] = tit[\"Age\"]\n",
    "column_trans = make_column_transformer(\n",
    "    (OneHotEncoder(feature_name_combiner=concat_with_unique), ['Sex', 'Embarked']),\n",
    "    ('passthrough', ['Fare', 'SibSp', 'Parch', 'A_ge', 'Pclass']))\n",
    "column_trans.fit_transform(tit)\n",
    "column_trans.get_feature_names_out()"
   ]
  }
 ],
 "metadata": {
  "kernelspec": {
   "display_name": "env",
   "language": "python",
   "name": "python3"
  },
  "language_info": {
   "codemirror_mode": {
    "name": "ipython",
    "version": 3
   },
   "file_extension": ".py",
   "mimetype": "text/x-python",
   "name": "python",
   "nbconvert_exporter": "python",
   "pygments_lexer": "ipython3",
   "version": "3.10.12"
  },
  "orig_nbformat": 4
 },
 "nbformat": 4,
 "nbformat_minor": 2
}
