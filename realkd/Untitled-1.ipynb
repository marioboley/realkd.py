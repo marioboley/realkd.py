{
 "cells": [
  {
   "cell_type": "code",
   "execution_count": 58,
   "metadata": {},
   "outputs": [],
   "source": [
    "import realkd.datasets\n",
    "import numpy as np\n",
    "import pandas as pd\n",
    "from pprint import pprint\n",
    "from sklearn.compose import make_column_transformer\n",
    "import importlib\n",
    "from sklearn.preprocessing import OneHotEncoder\n",
    "\n"
   ]
  },
  {
   "cell_type": "code",
   "execution_count": 13,
   "metadata": {},
   "outputs": [
    {
     "data": {
      "text/plain": [
       "array(['Sex$==$female', 'Sex$==$male', 'Embarked$==$C', 'Embarked$==$Q',\n",
       "       'Embarked$==$S', 'Embarked$==$nan', 'Fare', 'SibSp', 'Parch',\n",
       "       'Age', 'Pclass'], dtype=object)"
      ]
     },
     "execution_count": 13,
     "metadata": {},
     "output_type": "execute_result"
    }
   ],
   "source": [
    "def concat_with_unique(a, b):\n",
    "    return a + '$==$' + str(b)\n",
    "\n",
    "importlib.reload(realkd.datasets)\n",
    "tit = realkd.datasets.titanic_data(file_override='/mnt/c/Users/locke/Dropbox/Programming/Python/RA/realkd.py/datasets/titanic/train.csv')\n",
    "column_trans = make_column_transformer(\n",
    "    (OneHotEncoder(feature_name_combiner=concat_with_unique), ['Sex', 'Embarked']),\n",
    "    ('passthrough', ['Fare', 'SibSp', 'Parch', 'Age', 'Pclass']), verbose_feature_names_out=False)\n",
    "column_trans.fit_transform(tit)\n",
    "column_trans.get_feature_names_out()"
   ]
  },
  {
   "cell_type": "code",
   "execution_count": 79,
   "metadata": {},
   "outputs": [
    {
     "data": {
      "text/plain": [
       "array([0.        , 0.61614514, 0.02036385, 0.36349101])"
      ]
     },
     "execution_count": 79,
     "metadata": {},
     "output_type": "execute_result"
    }
   ],
   "source": [
    "from sklearn.ensemble import GradientBoostingRegressor\n",
    "from sklearn.datasets import make_regression\n",
    "from sklearn.model_selection import cross_val_score\n",
    "# from sklearn.ensemble import GradientBoostingRegressor\n",
    "\n",
    "X = realkd.datasets.titanic_data(file_override='/mnt/c/Users/locke/Dropbox/Programming/Python/RA/realkd.py/datasets/titanic/train.csv')\n",
    "test_X = realkd.datasets.titanic_data(file_override='/mnt/c/Users/locke/Dropbox/Programming/Python/RA/realkd.py/datasets/titanic/test.csv')\n",
    "X.dropna(inplace=True)\n",
    "test_X.dropna(inplace=True)\n",
    "y = X.Survived\n",
    "\n",
    "X.drop(columns=['Survived'], inplace=True)\n",
    "column_trans = make_column_transformer(\n",
    "    (OneHotEncoder(feature_name_combiner=concat_with_unique), ['Sex', 'Embarked']),\n",
    "    ('passthrough', ['Fare', 'SibSp', 'Parch', 'Age', 'Pclass']), verbose_feature_names_out=False)\n",
    "X = column_trans.fit_transform(X)\n",
    "test_X = column_trans.transform(test_X)\n",
    "\n",
    "titanic = pd.read_csv('../datasets/titanic/train.csv')\n",
    "titanic.dropna(inplace=True)\n",
    "survived = titanic.Survived\n",
    "titanic.drop(columns=['PassengerId', 'Name', 'Ticket', 'Cabin', 'Survived'], inplace=True)\n",
    "titanic.drop(columns=['Sex', 'Embarked'],  inplace=True)\n",
    "titanic2 = titanic.drop(columns=['Age'])\n",
    "titanic = titanic.drop(columns=['Parch'])\n",
    "\n",
    "cols = titanic.columns.to_list()\n",
    "cols = cols[-1:] + cols[:-1]\n",
    "titanic3 = titanic[cols]\n",
    "\n",
    "estimator = GradientBoostingRegressor(random_state=0)\n",
    "estimator.fit(titanic, y)\n",
    "# Raises error with wrong names! 🎉\n",
    "# estimator.predict(titanic2)\n",
    "# Raises error with wrong order! 🎉\n",
    "# estimator.predict(titanic3)\n",
    "# first_est = estimator.estimators_[0][0]\n",
    "estimator.feature_names_in_\n",
    "first_est.feature_importances_\n"
   ]
  }
 ],
 "metadata": {
  "kernelspec": {
   "display_name": "env",
   "language": "python",
   "name": "python3"
  },
  "language_info": {
   "codemirror_mode": {
    "name": "ipython",
    "version": 3
   },
   "file_extension": ".py",
   "mimetype": "text/x-python",
   "name": "python",
   "nbconvert_exporter": "python",
   "pygments_lexer": "ipython3",
   "version": "3.10.12"
  },
  "orig_nbformat": 4
 },
 "nbformat": 4,
 "nbformat_minor": 2
}
